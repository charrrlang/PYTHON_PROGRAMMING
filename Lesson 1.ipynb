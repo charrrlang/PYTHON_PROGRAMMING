{
 "cells": [
  {
   "cell_type": "markdown",
   "id": "de12ab4a-4573-42af-a232-4c5b2443b893",
   "metadata": {},
   "source": [
    "# Review Question 1"
   ]
  },
  {
   "cell_type": "code",
   "execution_count": 23,
   "id": "cd38ea6c-c4e1-4616-80fd-297f7683f78b",
   "metadata": {},
   "outputs": [
    {
     "name": "stdout",
     "output_type": "stream",
     "text": [
      "Length of the string: 13\n"
     ]
    }
   ],
   "source": [
    "# 1. Create a string and print its length using the len() function.\n",
    "my_string = \"Hello, World!\"\n",
    "print(\"Length of the string:\", len(my_string))"
   ]
  },
  {
   "cell_type": "code",
   "execution_count": 2,
   "id": "453bfd26-60d9-4bc4-9385-d05901fd2d1d",
   "metadata": {},
   "outputs": [
    {
     "name": "stdout",
     "output_type": "stream",
     "text": [
      "Concatenated string: Hello World!\n"
     ]
    }
   ],
   "source": [
    "# 2. Create two strings, concatenate them, and print the resulting string.\n",
    "string1 = \"Hello\"\n",
    "string2 = \"World!\"\n",
    "concatenated_string = string1 + \" \" + string2\n",
    "print(\"Concatenated string:\", concatenated_string)"
   ]
  },
  {
   "cell_type": "code",
   "execution_count": 3,
   "id": "0c197ffd-8881-42d5-ad62-44073bfc94bc",
   "metadata": {},
   "outputs": [
    {
     "name": "stdout",
     "output_type": "stream",
     "text": [
      "Concatenated with space: Hello World\n"
     ]
    }
   ],
   "source": [
    "# 3. Create two strings and use concatenation to add a space inbetween\n",
    "#them. Then print the result.\"\"\"\n",
    "string3 = \"Hello\"\n",
    "string4 = \"World\"\n",
    "concatenated_with_space = string3 + \" \" + string4\n",
    "print(\"Concatenated with space:\", concatenated_with_space)"
   ]
  },
  {
   "cell_type": "code",
   "execution_count": 5,
   "id": "7703bac3-5204-4117-b529-e0ea2457344b",
   "metadata": {},
   "outputs": [
    {
     "name": "stdout",
     "output_type": "stream",
     "text": [
      "Extracted word using slice: fox\n"
     ]
    }
   ],
   "source": [
    "# 4. Print the string \"fox\" using slice notation on the string \"The quick brown fox jumped over the lazy dog. #1234567890!\" \n",
    "original_string = \"The quick brown fox jumped over the lazy dog. #1234567890!\"\n",
    "fox_slice = original_string[16:19]  # Start at index 16, end at index 19 (not inclusive)\n",
    "print(\"Extracted word using slice:\", fox_slice)"
   ]
  },
  {
   "cell_type": "markdown",
   "id": "cf7da308-5c1d-446c-bfa8-70ee96bd32b5",
   "metadata": {},
   "source": [
    "# Review Question 2"
   ]
  },
  {
   "cell_type": "code",
   "execution_count": 6,
   "id": "933435af-276d-48f7-8cfd-74c22e855039",
   "metadata": {},
   "outputs": [
    {
     "name": "stdout",
     "output_type": "stream",
     "text": [
      "animals\n",
      "badger\n",
      "honey bee\n",
      "honeybadger\n"
     ]
    }
   ],
   "source": [
    "# 1.Write a script that converts the following strings to lowercase:\n",
    "#\"Animals\",\"Badger\",\"Honey Bee\",\"Honeybadger\". Print each lowercase string on a separate line.\n",
    "\n",
    "strings = [\"Animals\", \"Badger\", \"Honey Bee\", \"Honeybadger\"]\n",
    "for s in strings:\n",
    "    print(s.lower())"
   ]
  },
  {
   "cell_type": "code",
   "execution_count": 7,
   "id": "8fcdd9b2-facf-4059-b27c-d4aa59d53d37",
   "metadata": {},
   "outputs": [
    {
     "name": "stdout",
     "output_type": "stream",
     "text": [
      "ANIMALS\n",
      "BADGER\n",
      "HONEY BEE\n",
      "HONEYBADGER\n"
     ]
    }
   ],
   "source": [
    "# 2. Repeat Exercise 1, but convert each string to uppercase instead of lowercase.\n",
    "\n",
    "for s in strings:\n",
    "    print(s.upper())"
   ]
  },
  {
   "cell_type": "code",
   "execution_count": 8,
   "id": "1fd65515-640a-461f-8eed-4bfa9cf1ea5e",
   "metadata": {},
   "outputs": [
    {
     "name": "stdout",
     "output_type": "stream",
     "text": [
      "Filet Mignon\n",
      "Brisket\n"
     ]
    }
   ],
   "source": [
    "# 3. Write a script that removes whitespace from the following strings:\n",
    "# string1= \" Filet Mignon\"\n",
    "# string2= \"Brisket \"\n",
    "\n",
    "string1 = \" Filet Mignon\"\n",
    "string2 = \"Brisket \"\n",
    "\n",
    "print(string1.strip()) \n",
    "print(string2.strip()) "
   ]
  },
  {
   "cell_type": "code",
   "execution_count": 9,
   "id": "c8f22067-0efe-4b70-8a87-15a779e6f125",
   "metadata": {},
   "outputs": [
    {
     "name": "stdout",
     "output_type": "stream",
     "text": [
      "False\n",
      "True\n"
     ]
    }
   ],
   "source": [
    "# 4. Write a script that prints out the result of .startswith(\"be\") on each of the following strings:\n",
    "# string1= \"Becomes\"\n",
    "# string2= \"becomes\n",
    "\n",
    "string1 = \"Becomes\"\n",
    "string2 = \"becomes\"\n",
    "\n",
    "print(string1.startswith(\"be\"))  \n",
    "print(string2.startswith(\"be\")) "
   ]
  },
  {
   "cell_type": "code",
   "execution_count": 10,
   "id": "d39e2b53-c881-4708-94f1-f4fad8f08868",
   "metadata": {},
   "outputs": [
    {
     "name": "stdout",
     "output_type": "stream",
     "text": [
      "True\n",
      "True\n"
     ]
    }
   ],
   "source": [
    "# 5. Using the same strings from Exercise 4, write a script that uses string methods to alter each string so that .startswith(\"be\")  returns True for all of them\n",
    "\n",
    "string1 = \"Becomes\"\n",
    "string2 = \"becomes\"\n",
    "\n",
    "print(string1.lower().startswith(\"be\"))\n",
    "print(string2.lower().startswith(\"be\"))"
   ]
  },
  {
   "cell_type": "markdown",
   "id": "9b6dccdc-7691-4e02-b903-9541ca7f0048",
   "metadata": {},
   "source": [
    "# Review Question 3"
   ]
  },
  {
   "cell_type": "code",
   "execution_count": 11,
   "id": "a3404fb4-f6ef-4cae-bb5c-3ff2afd2708f",
   "metadata": {},
   "outputs": [
    {
     "name": "stdin",
     "output_type": "stream",
     "text": [
      "Enter something:  hi\n"
     ]
    },
    {
     "name": "stdout",
     "output_type": "stream",
     "text": [
      "You entered: hi\n"
     ]
    }
   ],
   "source": [
    "# 1. Write a script that takes input from the user and displays that input back\n",
    "\n",
    "user_input = input(\"Enter something: \")\n",
    "print(\"You entered:\", user_input)\n"
   ]
  },
  {
   "cell_type": "code",
   "execution_count": 12,
   "id": "81f38e7f-f262-4609-8dbf-528a44c4e9ea",
   "metadata": {},
   "outputs": [
    {
     "name": "stdin",
     "output_type": "stream",
     "text": [
      "Enter something:  Hi, Yvone\n"
     ]
    },
    {
     "name": "stdout",
     "output_type": "stream",
     "text": [
      "Your input in lowercase: hi, yvone\n"
     ]
    }
   ],
   "source": [
    "# 2. Write a script that takes input from the user and displays the input in lowercase.\n",
    "\n",
    "user_input = input(\"Enter something: \")\n",
    "print(\"Your input in lowercase:\", user_input.lower())"
   ]
  },
  {
   "cell_type": "code",
   "execution_count": 13,
   "id": "92a764c5-fc33-497c-9bda-85f0278775b8",
   "metadata": {},
   "outputs": [
    {
     "name": "stdin",
     "output_type": "stream",
     "text": [
      "Enter something:  Hi, Yvone B!\n"
     ]
    },
    {
     "name": "stdout",
     "output_type": "stream",
     "text": [
      "Number of characters in your input: 12\n"
     ]
    }
   ],
   "source": [
    "# 3. Write a script that takes input from the user and displays the number of characters inputted.\n",
    "\n",
    "user_input = input(\"Enter something: \")\n",
    "print(\"Number of characters in your input:\", len(user_input))"
   ]
  },
  {
   "cell_type": "markdown",
   "id": "aa2d58a4-1ae1-404b-bf6e-f5c4c1fc7309",
   "metadata": {},
   "source": [
    "# Review Question 4"
   ]
  },
  {
   "cell_type": "code",
   "execution_count": 14,
   "id": "29c0d5c8-be50-4c50-94f9-8f8ff41d0afd",
   "metadata": {},
   "outputs": [
    {
     "name": "stdin",
     "output_type": "stream",
     "text": [
      "Tell me your name:  Yvone Bardon\n"
     ]
    },
    {
     "name": "stdout",
     "output_type": "stream",
     "text": [
      "The first letter of your name is: Y\n"
     ]
    }
   ],
   "source": [
    "# 1. Write a script named first_letter.py that first prompts the user for input by using the string \"Tell me your name:\" The script should then determine the\n",
    "# first letter of the user’s input, convert that letter to upper-case, and display it back.\n",
    "\n",
    "user_name = input(\"Tell me your name: \")\n",
    "\n",
    "first_letter = user_name[0].upper() \n",
    "print(\"The first letter of your name is:\", first_letter)"
   ]
  },
  {
   "cell_type": "markdown",
   "id": "62cc573e-1d79-4aa0-9b84-d7536f4f2a40",
   "metadata": {},
   "source": [
    "# Review Question 5"
   ]
  },
  {
   "cell_type": "code",
   "execution_count": 15,
   "id": "d93f4c09-a980-4582-8a40-64a68f3e1d81",
   "metadata": {},
   "outputs": [
    {
     "name": "stdout",
     "output_type": "stream",
     "text": [
      "Result of multiplication: 210\n"
     ]
    }
   ],
   "source": [
    "# 1. Create a string containing an integer, then convert that string into an actual integer object using int(). Test that your new object is a number by multiplying it by another number and displaying the result.\n",
    "\n",
    "str_number = \"42\" \n",
    "int_number = int(str_number)  \n",
    "\n",
    "result = int_number * 5\n",
    "print(\"Result of multiplication:\", result)"
   ]
  },
  {
   "cell_type": "code",
   "execution_count": 17,
   "id": "d7c1142e-7f75-4c9a-bc74-44ab17ac5f7e",
   "metadata": {},
   "outputs": [
    {
     "name": "stdout",
     "output_type": "stream",
     "text": [
      "Result of multiplication: 24.4\n"
     ]
    }
   ],
   "source": [
    "# 2. Repeat the previous exercise, but use a floating-point number and float().\n",
    "\n",
    "str_float = \"12.2\"  \n",
    "float_number = float(str_float) \n",
    "\n",
    "result_float = float_number * 2\n",
    "print(\"Result of multiplication:\", result_float)"
   ]
  },
  {
   "cell_type": "code",
   "execution_count": 18,
   "id": "b8094911-2c10-4dd8-a151-d4c216586f45",
   "metadata": {},
   "outputs": [
    {
     "name": "stdout",
     "output_type": "stream",
     "text": [
      "String and Integer side by side: Age 25\n"
     ]
    }
   ],
   "source": [
    "# 3. Create a string object and an integer object, then display them side by side with a single print statement by using the str() function.\n",
    "\n",
    "string_obj = \"Age\"\n",
    "int_obj = 25\n",
    "\n",
    "print(\"String and Integer side by side:\", string_obj + \" \" + str(int_obj))"
   ]
  },
  {
   "cell_type": "code",
   "execution_count": 20,
   "id": "1c9b6c5e-9a69-4e98-ae74-b13c794fbce7",
   "metadata": {},
   "outputs": [
    {
     "name": "stdin",
     "output_type": "stream",
     "text": [
      "Enter the first number:  3\n",
      "Enter the second number:  2\n"
     ]
    },
    {
     "name": "stdout",
     "output_type": "stream",
     "text": [
      "The result of multiplication is: 6.0\n"
     ]
    }
   ],
   "source": [
    "# 4. Write a script that gets two numbers from the user using the input() function twice, multiplies the numbers together, and displays the result.\n",
    "\n",
    "num1 = float(input(\"Enter the first number: \"))  \n",
    "num2 = float(input(\"Enter the second number: \")) \n",
    "\n",
    "result_multiplication = num1 * num2\n",
    "print(\"The result of multiplication is:\", result_multiplication)"
   ]
  },
  {
   "cell_type": "markdown",
   "id": "5039860d-40ce-400f-b67f-75214610f099",
   "metadata": {},
   "source": [
    "# Review Question 6"
   ]
  },
  {
   "cell_type": "code",
   "execution_count": 21,
   "id": "d11a2f1f-c5ec-448f-abaf-99fab5f7601e",
   "metadata": {},
   "outputs": [
    {
     "name": "stdout",
     "output_type": "stream",
     "text": [
      "-1\n"
     ]
    }
   ],
   "source": [
    "# 1.  In one line of code, display the result of trying to .find() the substring \"a\" in the string \"AAA\n",
    "\n",
    "print(\"AAA\".find(\"a\"))"
   ]
  },
  {
   "cell_type": "code",
   "execution_count": 24,
   "id": "37e44a84-d15b-4ff3-86d4-498610524384",
   "metadata": {},
   "outputs": [
    {
     "name": "stdout",
     "output_type": "stream",
     "text": [
      "Somebody yaid yomething to Samantha.\n"
     ]
    }
   ],
   "source": [
    "# 2. Replace every occurrence of the character \"s\" with \"y” in the string \"Somebody said something to Samantha.\".\n",
    "\n",
    "original_str = \"Somebody said something to Samantha.\"\n",
    "replaced_str = original_str.replace(\"s\", \"y\")\n",
    "print(replaced_str)"
   ]
  },
  {
   "cell_type": "code",
   "execution_count": 27,
   "id": "6da6d3d2-9e4a-4628-88b7-e8798ee78650",
   "metadata": {},
   "outputs": [
    {
     "name": "stdin",
     "output_type": "stream",
     "text": [
      "Enter a string:  vond\n",
      "Enter a letter to find:  l\n"
     ]
    },
    {
     "name": "stdout",
     "output_type": "stream",
     "text": [
      "The letter 'l' is found at position: -1\n"
     ]
    }
   ],
   "source": [
    "# 3. Write and test a script that accepts user input using the input() function and displays the result of trying to .find() a particular letter in that input\n",
    "\n",
    "user_input = input(\"Enter a string: \")\n",
    "letter_to_find = input(\"Enter a letter to find: \")\n",
    "\n",
    "position = user_input.find(letter_to_find)\n",
    "print(f\"The letter '{letter_to_find}' is found at position: {position}\")"
   ]
  },
  {
   "cell_type": "markdown",
   "id": "f45add15-b228-4bbd-9518-84da603a2b91",
   "metadata": {},
   "source": [
    "# Review Question 7"
   ]
  },
  {
   "cell_type": "code",
   "execution_count": 28,
   "id": "2d3ac7dd-6dd4-45d0-b888-a8f93faa7ca8",
   "metadata": {},
   "outputs": [
    {
     "name": "stdin",
     "output_type": "stream",
     "text": [
      "Enter some text:  Hello, Yvone\n"
     ]
    },
    {
     "name": "stdout",
     "output_type": "stream",
     "text": [
      "h3110, yv0n3\n"
     ]
    }
   ],
   "source": [
    "# Write a script called translate.py that asks the user for some input\n",
    "# with the following prompt: Enter some text:. Then use the .replace()\n",
    "# method to convert the text entered by the user into “leetspeak” by making the following changes to lower-case letters:\n",
    "# • The letter a becomes 4\n",
    "# • The letter b becomes 8\n",
    "# • The letter e becomes 3\n",
    "# • The letter l becomes 1\n",
    "# • The letter o becomes 0\n",
    "# • The letter s becomes 5\n",
    "# • The letter t becomes 7\n",
    "# Your program should then display the resulting string as output. Below is a sample run of the program:\n",
    "# Enter some text: I like to eat eggs and spam.\n",
    "# I 1ik3 70 347 3gg5 4nd 5p4m\n",
    "\n",
    "text = input(\"Enter some text: \")\n",
    "\n",
    "text = text.lower()\n",
    "\n",
    "text = text.replace('a', '4')\n",
    "text = text.replace('b', '8')\n",
    "text = text.replace('e', '3')\n",
    "text = text.replace('l', '1')\n",
    "text = text.replace('o', '0')\n",
    "text = text.replace('s', '5')\n",
    "text = text.replace('t', '7')\n",
    "\n",
    "print(text)\n"
   ]
  },
  {
   "cell_type": "code",
   "execution_count": null,
   "id": "0866c807-890d-43bf-8b3f-05e929df350b",
   "metadata": {},
   "outputs": [],
   "source": []
  }
 ],
 "metadata": {
  "kernelspec": {
   "display_name": "Python 3 (ipykernel)",
   "language": "python",
   "name": "python3"
  },
  "language_info": {
   "codemirror_mode": {
    "name": "ipython",
    "version": 3
   },
   "file_extension": ".py",
   "mimetype": "text/x-python",
   "name": "python",
   "nbconvert_exporter": "python",
   "pygments_lexer": "ipython3",
   "version": "3.13.5"
  }
 },
 "nbformat": 4,
 "nbformat_minor": 5
}
