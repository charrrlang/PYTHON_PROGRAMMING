{
 "cells": [
  {
   "cell_type": "markdown",
   "id": "05529473-d37c-4a9b-bdce-60479401f0cd",
   "metadata": {},
   "source": [
    "# Review Question 1"
   ]
  },
  {
   "cell_type": "code",
   "execution_count": 4,
   "id": "806fd226-9a1a-4a25-8f32-36113ac032ca",
   "metadata": {},
   "outputs": [],
   "source": [
    "# 1. For each of the following conditional expressions, guess whether they evaluate to True or False. \n",
    "# Then type them into the interactive window to check your answers:\n",
    "\n",
    "# 1 <= 1 - TRUE\n",
    "# 1 != 1 - FALSE\n",
    "# 1 != 2 - TRUE\n",
    "# \"good\" != \"bad\" - TRUE\n",
    "# \"good\" != \"Good\" - TRUE\n",
    "# 123 == \"123\" - FALSE\n",
    "\n",
    "# 3 __ 4 - <\n",
    "# 10 __ 5 - >\n",
    "# \"jack\" __ \"jill\" - <\n",
    "# 42 __ \"42\" - !=\n"
   ]
  },
  {
   "cell_type": "markdown",
   "id": "d886af3a-1351-4395-9a17-83272ca64bba",
   "metadata": {},
   "source": [
    "# Review Question 2"
   ]
  },
  {
   "cell_type": "code",
   "execution_count": 8,
   "id": "f09b6a2d-b6ec-4c8d-9b68-8abfa6b476ca",
   "metadata": {},
   "outputs": [
    {
     "name": "stdin",
     "output_type": "stream",
     "text": [
      "Enter a word:  h\n"
     ]
    },
    {
     "name": "stdout",
     "output_type": "stream",
     "text": [
      "The length of the word is less than 5 characters.\n"
     ]
    }
   ],
   "source": [
    "#  WRITE A SCRIPT THAT PROMPTS THE USER TO ENTER A WORD USING THE INPUT()\n",
    "# FUNCTION, STORES THAT INPUT IN A VARIABLE, AND THEN DISPLAYS WHETHER THE\n",
    "# LENGTH OF THAT STRING IS LESS THAN 5 CHARACTERS, GREATER THAN 5CHARACTERS,\n",
    "# OR EQUAL TO 5 CHARACTERS BY USING A SET OF IF, ELIF AND ELSE STATEMENTS\n",
    "\n",
    "word = input(\"Enter a word: \")\n",
    "\n",
    "length = len(word)\n",
    "\n",
    "if length < 5:\n",
    "    print(\"The length of the word is less than 5 characters.\")\n",
    "elif length > 5:\n",
    "    print(\"The length of the word is greater than 5 characters.\")\n",
    "else:\n",
    "    print(\"The length of the word is equal to 5 characters.\")\n"
   ]
  },
  {
   "cell_type": "markdown",
   "id": "586395bc-3829-4b5e-a1c5-a9776da6c781",
   "metadata": {},
   "source": [
    "# Review Question 3"
   ]
  },
  {
   "cell_type": "code",
   "execution_count": 9,
   "id": "ddc76734-5a23-437c-88a8-878e253e60a3",
   "metadata": {},
   "outputs": [
    {
     "name": "stdin",
     "output_type": "stream",
     "text": [
      "Enter something (press Q or q to quit):  k\n"
     ]
    },
    {
     "name": "stdout",
     "output_type": "stream",
     "text": [
      "You entered: k\n"
     ]
    },
    {
     "name": "stdin",
     "output_type": "stream",
     "text": [
      "Enter something (press Q or q to quit):  y\n"
     ]
    },
    {
     "name": "stdout",
     "output_type": "stream",
     "text": [
      "You entered: y\n"
     ]
    },
    {
     "name": "stdin",
     "output_type": "stream",
     "text": [
      "Enter something (press Q or q to quit):  q\n"
     ]
    },
    {
     "name": "stdout",
     "output_type": "stream",
     "text": [
      "Exiting the program...\n"
     ]
    }
   ],
   "source": [
    "# 1.USING BREAK, WRITE A PROGRAM THAT REPEATEDLY ASKS THE USER FOR SOME INPUT AND ONLY QUITS IF THE USER ENTERS \"Q\" OR \"Q\".\n",
    "\n",
    "while True:\n",
    "    user_input = input(\"Enter something (press Q or q to quit): \")\n",
    "    \n",
    "    if user_input == \"Q\" or user_input == \"q\":\n",
    "        print(\"Exiting the program...\")\n",
    "        break\n",
    "    else:\n",
    "        print(\"You entered:\", user_input)\n",
    "\n"
   ]
  },
  {
   "cell_type": "code",
   "execution_count": null,
   "id": "0a9f3406-7fe8-49b8-8a90-2d73901467be",
   "metadata": {},
   "outputs": [],
   "source": [
    "# 2. USING CONTINUE, WRITE A PROGRAM THAT LOOPS OVER THE NUMBERS 1 TO 50 AND PRINTS ALL NUMBERS THAT ARE NOT MULTIPLES OF 3.\n",
    "\n",
    "for number in range(1, 51):  \n",
    "    if number % 3 == 0:      \n",
    "        continue             \n",
    "    print(number)            "
   ]
  },
  {
   "cell_type": "markdown",
   "id": "da016b09-a878-4b4b-9d3a-b7df2cb72f24",
   "metadata": {},
   "source": [
    "# Review Question 4"
   ]
  },
  {
   "cell_type": "code",
   "execution_count": 14,
   "id": "3a212312-6770-4312-9e4e-3c9ce30de0b3",
   "metadata": {},
   "outputs": [
    {
     "name": "stdin",
     "output_type": "stream",
     "text": [
      "Enter an integer:  k\n"
     ]
    },
    {
     "name": "stdout",
     "output_type": "stream",
     "text": [
      "Invalid input. Try again.\n"
     ]
    },
    {
     "name": "stdin",
     "output_type": "stream",
     "text": [
      "Enter an integer:  \n"
     ]
    },
    {
     "name": "stdout",
     "output_type": "stream",
     "text": [
      "Invalid input. Try again.\n"
     ]
    },
    {
     "name": "stdin",
     "output_type": "stream",
     "text": [
      "Enter an integer:  l\n"
     ]
    },
    {
     "name": "stdout",
     "output_type": "stream",
     "text": [
      "Invalid input. Try again.\n"
     ]
    },
    {
     "name": "stdin",
     "output_type": "stream",
     "text": [
      "Enter an integer:  0\n"
     ]
    },
    {
     "name": "stdout",
     "output_type": "stream",
     "text": [
      "You entered: 0\n"
     ]
    }
   ],
   "source": [
    "# 1. WRITE A SCRIPT THAT REPEATEDLY ASKS THE USER TO INPUT AN INTEGER,\n",
    "# DISPLAYING A MESSAGE TO “TRY AGAIN” BY CATCHING THE VALUEERROR THAT IS RAISEDIF THE USER DID NOT ENTER AN INTEGER. ONCE THE USER ENTERS AN INTEGER, THE\n",
    "# PROGRAM SHOULD DISPLAY THE NUMBER BACK TO THE USER AND END WITHOUT CRASHING.\n",
    "\n",
    "while True:\n",
    "    try:\n",
    "        number = int(input(\"Enter an integer: \"))\n",
    "        \n",
    "        print(\"You entered:\", number)\n",
    "        break\n",
    "    except ValueError:\n",
    "        print(\"Invalid input. Try again.\")\n",
    "\n"
   ]
  },
  {
   "cell_type": "code",
   "execution_count": 16,
   "id": "c1ba0bad-3652-4cc2-8683-72a82dfa6e11",
   "metadata": {},
   "outputs": [
    {
     "name": "stdin",
     "output_type": "stream",
     "text": [
      "Enter a string:  vone\n",
      "Enter an index number:  0\n"
     ]
    },
    {
     "name": "stdout",
     "output_type": "stream",
     "text": [
      "The character at index 0 is 'v'.\n"
     ]
    }
   ],
   "source": [
    "# 2. WRITE A PROGRAM THAT ASKS THE USER TO INPUT A STRING AND AN INTEGER N. THEN DISPLAY THE CHARACTER AT INDEX N IN THE STRING\n",
    "\n",
    "text = input(\"Enter a string: \")\n",
    "\n",
    "n = int(input(\"Enter an index number: \"))\n",
    "\n",
    "if 0 <= n < len(text):\n",
    "    print(f\"The character at index {n} is '{text[n]}'.\")\n",
    "else:\n",
    "    print(\"Error: Index out of range.\")\n"
   ]
  },
  {
   "cell_type": "markdown",
   "id": "5c3896f3-64f8-4351-919b-e282b70ec9ab",
   "metadata": {},
   "source": [
    "# Review Question 5"
   ]
  },
  {
   "cell_type": "code",
   "execution_count": 21,
   "id": "f0e83d6a-dac4-4e31-a68d-b37a1c5d7337",
   "metadata": {},
   "outputs": [
    {
     "name": "stdout",
     "output_type": "stream",
     "text": [
      "You rolled: 5\n"
     ]
    }
   ],
   "source": [
    "# 1. WRITE A FUNCTION CALLED ROLL() THAT USES THE RANDINT() FUNCTION TO SIMULATE ROLLING A FAIR DIE BY RETURNING A RANDOM INTEGER BETWEEN 1 AND 6\n",
    "\n",
    "import random\n",
    "\n",
    "def roll():\n",
    "    return random.randint(1, 6)\n",
    "\n",
    "print(\"You rolled:\", roll())\n",
    "\n"
   ]
  },
  {
   "cell_type": "code",
   "execution_count": 24,
   "id": "3de02e7d-fbd1-4e75-b153-6da3c4a9634e",
   "metadata": {},
   "outputs": [
    {
     "name": "stdout",
     "output_type": "stream",
     "text": [
      "The average number rolled after 10,000 rolls is: 3.511\n"
     ]
    }
   ],
   "source": [
    "# 2. WRITE A SCRIPT THAT SIMULATES 10,000 ROLLS OF A FAIR DIE AND DISPLAYS THE AVERAGE NUMBER ROLLED.\n",
    "\n",
    "import random\n",
    "\n",
    "rolls = 10000\n",
    "\n",
    "total = 0\n",
    "\n",
    "for _ in range(rolls):\n",
    "    total += random.randint(1, 6)\n",
    "\n",
    "average = total / rolls\n",
    "\n",
    "print(\"The average number rolled after 10,000 rolls is:\", average)\n"
   ]
  }
 ],
 "metadata": {
  "kernelspec": {
   "display_name": "Python [conda env:base] *",
   "language": "python",
   "name": "conda-base-py"
  },
  "language_info": {
   "codemirror_mode": {
    "name": "ipython",
    "version": 3
   },
   "file_extension": ".py",
   "mimetype": "text/x-python",
   "name": "python",
   "nbconvert_exporter": "python",
   "pygments_lexer": "ipython3",
   "version": "3.13.5"
  }
 },
 "nbformat": 4,
 "nbformat_minor": 5
}
