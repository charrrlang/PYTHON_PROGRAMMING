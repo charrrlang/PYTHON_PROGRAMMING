{
 "cells": [
  {
   "cell_type": "markdown",
   "id": "49b36ca3-a7dc-40f7-958b-06500a1cfd1b",
   "metadata": {},
   "source": [
    "# Review Question 1"
   ]
  },
  {
   "cell_type": "code",
   "execution_count": 1,
   "id": "29ad2582-92df-4143-90b9-0c068037a918",
   "metadata": {},
   "outputs": [
    {
     "name": "stdout",
     "output_type": "stream",
     "text": [
      "Cube of 2: 8\n",
      "Cube of 3: 27\n",
      "Cube of 4: 64\n",
      "Cube of -5: -125\n"
     ]
    }
   ],
   "source": [
    "# Write a function called cube() with one number parameter and returns the value of that number raised to the third power. Test the\n",
    "# function by displaying the result of calling your cube() function on a few different numbers\n",
    "\n",
    "def cube(number):\n",
    "    return number ** 3\n",
    "\n",
    "print(\"Cube of 2:\", cube(2))\n",
    "print(\"Cube of 3:\", cube(3))\n",
    "print(\"Cube of 4:\", cube(4))\n",
    "print(\"Cube of -5:\", cube(-5))"
   ]
  },
  {
   "cell_type": "code",
   "execution_count": 3,
   "id": "a50ac872-4551-4303-bd4c-ed3726625672",
   "metadata": {},
   "outputs": [
    {
     "name": "stdout",
     "output_type": "stream",
     "text": [
      "Hello Yvone!\n",
      "Hello Vonyy!\n",
      "Hello Vone!\n"
     ]
    }
   ],
   "source": [
    "# Write a function called greet() that takes one string parameter called name and displays the text \"Hello <name>!\" , where <name> is\n",
    "# replaced with the value of the name parameter.\n",
    "\n",
    "def greet(name):\n",
    "    print(f\"Hello {name}!\")\n",
    "\n",
    "greet(\"Yvone\")\n",
    "greet(\"Vonyy\")\n",
    "greet(\"Vone\")"
   ]
  },
  {
   "cell_type": "markdown",
   "id": "39baf18a-9ce4-4350-8855-68753fed8c69",
   "metadata": {},
   "source": [
    "# Review Question 2"
   ]
  },
  {
   "cell_type": "code",
   "execution_count": 4,
   "id": "0bc56c92-2e17-4ba0-b98c-293df0cebf40",
   "metadata": {},
   "outputs": [
    {
     "name": "stdout",
     "output_type": "stream",
     "text": [
      "2\n",
      "3\n",
      "4\n",
      "5\n",
      "6\n",
      "7\n",
      "8\n",
      "9\n",
      "10\n"
     ]
    }
   ],
   "source": [
    "# Write a for loop that prints out the integers 2 through 10, each on a new line, by using the range() function.\n",
    "\n",
    "for i in range(2, 11):\n",
    "    print(i)"
   ]
  },
  {
   "cell_type": "code",
   "execution_count": 5,
   "id": "fd8867e1-e107-426d-b95e-cf7f6dcd57dc",
   "metadata": {},
   "outputs": [
    {
     "name": "stdout",
     "output_type": "stream",
     "text": [
      "2\n",
      "3\n",
      "4\n",
      "5\n",
      "6\n",
      "7\n",
      "8\n",
      "9\n",
      "10\n"
     ]
    }
   ],
   "source": [
    "# .Use a while loop that prints out the integers 2 through 10 (Hint: You’ll need to create a new integer first.)\n",
    "\n",
    "num = 2\n",
    "while num <= 10:\n",
    "    print(num)\n",
    "    num += 1"
   ]
  },
  {
   "cell_type": "code",
   "execution_count": 6,
   "id": "d0ef30b1-4a8b-447f-baa6-5d0fdb286681",
   "metadata": {},
   "outputs": [
    {
     "name": "stdout",
     "output_type": "stream",
     "text": [
      "4\n",
      "8\n",
      "16\n"
     ]
    }
   ],
   "source": [
    "# Write a function called doubles() that takes one number as its input and doubles that number. Then use the doubles() function in a loop to\n",
    "# double the number 2 three times, displaying each result on a separate line. Here is some sample output:\n",
    "\n",
    "def doubles(number):\n",
    "    return number * 2\n",
    "\n",
    "value = 2\n",
    "for _ in range(3):\n",
    "    value = doubles(value)\n",
    "    print(value)\n"
   ]
  },
  {
   "cell_type": "code",
   "execution_count": null,
   "id": "09f1030c-4fd9-4875-87ab-9ee0e7ba16b8",
   "metadata": {},
   "outputs": [],
   "source": []
  }
 ],
 "metadata": {
  "kernelspec": {
   "display_name": "Python 3 (ipykernel)",
   "language": "python",
   "name": "python3"
  },
  "language_info": {
   "codemirror_mode": {
    "name": "ipython",
    "version": 3
   },
   "file_extension": ".py",
   "mimetype": "text/x-python",
   "name": "python",
   "nbconvert_exporter": "python",
   "pygments_lexer": "ipython3",
   "version": "3.13.5"
  }
 },
 "nbformat": 4,
 "nbformat_minor": 5
}
