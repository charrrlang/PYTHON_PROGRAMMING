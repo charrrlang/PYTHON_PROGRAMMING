{
 "cells": [
  {
   "cell_type": "markdown",
   "id": "e9a3ade9-f86d-40ac-933b-0423ab0e2ea2",
   "metadata": {},
   "source": [
    "# Review Question 1"
   ]
  },
  {
   "cell_type": "code",
   "execution_count": 1,
   "id": "f1f50ca2-c7f5-4bbf-9803-e5ea46bd4d36",
   "metadata": {},
   "outputs": [
    {
     "name": "stdout",
     "output_type": "stream",
     "text": [
      "25000000\n",
      "25000000\n"
     ]
    }
   ],
   "source": [
    "# 1. Write a script that creates the two variables, num1 and num2. Both num1\n",
    "# and num2 should be assigned the integer literal 25,000,000, one written\n",
    "# with underscored and one without. Print num1 and num2 on two separate lines.\n",
    "\n",
    "num1 = 25000000\n",
    "num2 = 25_000_000\n",
    "\n",
    "print(num1)\n",
    "print(num2)"
   ]
  },
  {
   "cell_type": "code",
   "execution_count": 2,
   "id": "eeae527b-ec79-4743-a2ea-d010c52e3076",
   "metadata": {},
   "outputs": [
    {
     "name": "stdout",
     "output_type": "stream",
     "text": [
      "175000.0\n"
     ]
    }
   ],
   "source": [
    "# 2. Write a script that assigns the floating-point literal 175000.0 to the\n",
    "# variable num using exponential notation, and then prints num\n",
    "\n",
    "num = 1.75e5 \n",
    "print(num)"
   ]
  },
  {
   "cell_type": "code",
   "execution_count": 3,
   "id": "e0b2747c-ca86-4850-9b3f-044c9551266c",
   "metadata": {},
   "outputs": [
    {
     "name": "stdout",
     "output_type": "stream",
     "text": [
      "Smallest N where 2eN is infinity: 308\n"
     ]
    }
   ],
   "source": [
    "# 3. Try and find the smallest exponent N so that 2e<N>, where <N> is replaced with your number, returns inf.\n",
    "\n",
    "import math\n",
    "\n",
    "N = 300  # start close to max\n",
    "while True:\n",
    "    val = float(f\"2e{N}\")\n",
    "    if math.isinf(val):\n",
    "        break\n",
    "    N += 1\n",
    "\n",
    "print(\"Smallest N where 2eN is infinity:\", N)\n"
   ]
  },
  {
   "cell_type": "markdown",
   "id": "a4807de2-b69c-45dc-aa22-a42e2420bf73",
   "metadata": {},
   "source": [
    "# Review Question 2"
   ]
  },
  {
   "cell_type": "code",
   "execution_count": 6,
   "id": "f810a73a-1422-401c-a26b-5f049f9f0553",
   "metadata": {},
   "outputs": [
    {
     "name": "stdin",
     "output_type": "stream",
     "text": [
      "Enter the base number:  5\n",
      "Enter the exponent number:  3\n"
     ]
    },
    {
     "name": "stdout",
     "output_type": "stream",
     "text": [
      "5.0 raised to the power of 3.0 is 125.0\n"
     ]
    }
   ],
   "source": [
    "# Write a script called exponent.py that receives two numbers from the\n",
    "# user and displays the first number raised to the power of the second number.\n",
    "\n",
    "base = float(input(\"Enter the base number: \"))\n",
    "exponent = float(input(\"Enter the exponent number: \"))\n",
    "\n",
    "result = base ** exponent\n",
    "\n",
    "print(f\"{base} raised to the power of {exponent} is {result}\")\n"
   ]
  },
  {
   "cell_type": "markdown",
   "id": "e0afc481-ba58-42ac-8318-37f66d4cdef8",
   "metadata": {},
   "source": [
    "# Review Question 3"
   ]
  },
  {
   "cell_type": "code",
   "execution_count": 7,
   "id": "44a5aa1f-cb06-4766-a7fa-a51dadd8d979",
   "metadata": {},
   "outputs": [
    {
     "name": "stdin",
     "output_type": "stream",
     "text": [
      "Enter a number:  3\n"
     ]
    },
    {
     "name": "stdout",
     "output_type": "stream",
     "text": [
      "Number rounded to two decimal places: 3.0\n"
     ]
    }
   ],
   "source": [
    "# 1.Write a script that asks the user to input a number and then displays that number rounded to two decimal places.\n",
    "\n",
    "num = float(input(\"Enter a number: \"))\n",
    "rounded_num = round(num, 2)\n",
    "\n",
    "print(f\"Number rounded to two decimal places: {rounded_num}\")\n"
   ]
  },
  {
   "cell_type": "code",
   "execution_count": 13,
   "id": "f3e307ef-fba9-4d40-9666-f60235553edf",
   "metadata": {},
   "outputs": [
    {
     "name": "stdin",
     "output_type": "stream",
     "text": [
      "Enter a number:  -1\n"
     ]
    },
    {
     "name": "stdout",
     "output_type": "stream",
     "text": [
      "The absolute value of -1.0 is 1.0\n"
     ]
    }
   ],
   "source": [
    "# 2. Write a script that asks the user to input a number and then displays the absolute value of that number.\n",
    "\n",
    "num = float(input(\"Enter a number: \"))\n",
    "abs_value = abs(num)\n",
    "\n",
    "print(f\"The absolute value of {num} is {abs_value}\")\n"
   ]
  },
  {
   "cell_type": "markdown",
   "id": "1ca9a170-f847-4bfc-aee1-b5b688c78992",
   "metadata": {},
   "source": [
    "# Review Question 4"
   ]
  },
  {
   "cell_type": "code",
   "execution_count": null,
   "id": "947c8f35-b195-4fa4-9dd5-5c23dd9add0e",
   "metadata": {},
   "outputs": [],
   "source": [
    "# Write a script that asks the user to input two numbers by using the\n",
    "# input() function twice, then display whether or not the difference\n",
    "# between those two number is an integer\n",
    "\n",
    "num1 = float(input(\"Enter the first number: \"))\n",
    "num2 = float(input(\"Enter the second number: \"))\n",
    "\n",
    "diff = num1 - num2\n",
    "\n",
    "if diff.is_integer():\n",
    "    print(\"The difference between the two numbers is an integer.\")\n",
    "else:\n",
    "    print(\"The difference between the two numbers is NOT an integer.\")\n"
   ]
  },
  {
   "cell_type": "markdown",
   "id": "661dec11-e21e-4ff3-a46e-f201535aa0a1",
   "metadata": {},
   "source": [
    "# Review Question 5"
   ]
  },
  {
   "cell_type": "code",
   "execution_count": 19,
   "id": "57d8eb8b-4829-472e-9f5f-babcbfddc8e8",
   "metadata": {},
   "outputs": [
    {
     "name": "stdout",
     "output_type": "stream",
     "text": [
      "1.147\n"
     ]
    }
   ],
   "source": [
    "# 1. Print the result of the calculation 3 ** .125 as a fixed-point number with three decimal places.\n",
    "\n",
    "result = 3 ** 0.125\n",
    "print(f\"{result:.3f}\")"
   ]
  },
  {
   "cell_type": "code",
   "execution_count": 21,
   "id": "65198483-d32b-4466-bfe5-631effca2efc",
   "metadata": {},
   "outputs": [
    {
     "name": "stdout",
     "output_type": "stream",
     "text": [
      "PHP150,000.00\n"
     ]
    }
   ],
   "source": [
    "# 2. 2.Print the number 150000 as currency, with the thousands grouped\n",
    "# with commas. Currency should be displayed with two decimal places.\n",
    "\n",
    "amount = 150000\n",
    "print(f\"PHP{amount:,.2f}\")"
   ]
  },
  {
   "cell_type": "code",
   "execution_count": 22,
   "id": "39fa1d19-f5e6-4eab-a520-5f46fe64cfcb",
   "metadata": {},
   "outputs": [
    {
     "name": "stdout",
     "output_type": "stream",
     "text": [
      "20%\n"
     ]
    }
   ],
   "source": [
    "# 3. Print the result of 2 / 10 as a percentage with no decimal places. The output should look like 20%.\n",
    "\n",
    "result = 2 / 10\n",
    "print(f\"{result:.0%}\")"
   ]
  },
  {
   "cell_type": "code",
   "execution_count": null,
   "id": "2a83e5f0-52d5-4522-8950-c93eb9e7ecd2",
   "metadata": {},
   "outputs": [],
   "source": []
  },
  {
   "cell_type": "code",
   "execution_count": null,
   "id": "98a755bf-e223-4fba-b8a6-4c78239ced1a",
   "metadata": {},
   "outputs": [],
   "source": []
  }
 ],
 "metadata": {
  "kernelspec": {
   "display_name": "Python 3 (ipykernel)",
   "language": "python",
   "name": "python3"
  },
  "language_info": {
   "codemirror_mode": {
    "name": "ipython",
    "version": 3
   },
   "file_extension": ".py",
   "mimetype": "text/x-python",
   "name": "python",
   "nbconvert_exporter": "python",
   "pygments_lexer": "ipython3",
   "version": "3.13.5"
  }
 },
 "nbformat": 4,
 "nbformat_minor": 5
}
