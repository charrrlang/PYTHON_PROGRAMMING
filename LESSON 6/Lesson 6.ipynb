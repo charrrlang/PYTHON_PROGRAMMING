{
 "cells": [
  {
   "cell_type": "markdown",
   "id": "c7629ec5-969f-4daa-ba3e-dcda4f33ea6a",
   "metadata": {},
   "source": [
    "# Review Question 1"
   ]
  },
  {
   "cell_type": "code",
   "execution_count": 4,
   "id": "2dfdf94b-7c68-468d-8cac-70c202b0c8e0",
   "metadata": {},
   "outputs": [
    {
     "name": "stdout",
     "output_type": "stream",
     "text": [
      "Philo's coat is brown\n"
     ]
    }
   ],
   "source": [
    "class Dog:\n",
    "    species =\"Cannis Familiaris\"\n",
    "\n",
    "    def __init__(self,name,age,coat_color):\n",
    "        self.name = name\n",
    "        self.age = age\n",
    "        self.coat_color = coat_color \n",
    "\n",
    "philo = Dog(\"Philo\",5 ,\"brown\")\n",
    "print(f\"{philo.name}'s coat is {philo.coat_color}\")"
   ]
  },
  {
   "cell_type": "code",
   "execution_count": 6,
   "id": "b82f0f06-2d1b-4b76-aead-ba93728ec4b6",
   "metadata": {},
   "outputs": [
    {
     "name": "stdout",
     "output_type": "stream",
     "text": [
      "The blue car has 20,000 miles\n",
      "The red car has 30,000 miles\n"
     ]
    }
   ],
   "source": [
    "class Car:\n",
    "\n",
    "    def __init__(self, color, miliage):\n",
    "        self.color = color\n",
    "        self.miliage = miliage\n",
    "\n",
    "\n",
    "blueCar = Car(\"blue\", 20000)\n",
    "redCar = Car(\"red\", 30000)\n",
    "\n",
    "print(f\"The {blueCar.color} car has {blueCar.miliage:,} miles\")\n",
    "print(f\"The {redCar.color} car has {redCar.miliage:,} miles\")"
   ]
  },
  {
   "cell_type": "code",
   "execution_count": 7,
   "id": "db85520a-ff82-4b16-a404-a6e4b7a4c089",
   "metadata": {},
   "outputs": [
    {
     "name": "stdout",
     "output_type": "stream",
     "text": [
      "The blue car has 20,400 miles\n",
      "The red car has 30,000 miles\n"
     ]
    }
   ],
   "source": [
    "class Car:\n",
    "\n",
    "    def __init__(self, color, miliage):\n",
    "        self.color = color\n",
    "        self.miliage = miliage\n",
    "\n",
    "    def drive(self,num):\n",
    "        self.miliage += num\n",
    "        return self.miliage\n",
    "     \n",
    "\n",
    "\n",
    "blueCar = Car(\"blue\", 20000)\n",
    "redCar = Car(\"red\", 30000)\n",
    "blueCar.drive(400)\n",
    "\n",
    "print(f\"The {blueCar.color} car has {blueCar.miliage:,} miles\")\n",
    "print(f\"The {redCar.color} car has {redCar.miliage:,} miles\")"
   ]
  },
  {
   "cell_type": "markdown",
   "id": "3e397fcf-501f-4bce-89f1-c35b986e9475",
   "metadata": {},
   "source": [
    "# Review Question 2"
   ]
  },
  {
   "cell_type": "code",
   "execution_count": 9,
   "id": "059352ea-47f6-4a13-8bcc-cdd8a1970025",
   "metadata": {},
   "outputs": [
    {
     "data": {
      "text/plain": [
       "'buddy says arf'"
      ]
     },
     "execution_count": 9,
     "metadata": {},
     "output_type": "execute_result"
    }
   ],
   "source": [
    "class Dog:\n",
    "    species =\"Cannis Familiaris\"\n",
    "\n",
    "    def __init__(self,name,age):\n",
    "        self.name = name\n",
    "        self.age = age\n",
    "    def __str__(self):\n",
    "        return f\"{self.name} is {self.age} years old\"\n",
    "\n",
    "    def speak(self, sound):\n",
    "        return f\"{self.name} says {sound}\"\n",
    "    \n",
    "class GoldenRetriever(Dog):\n",
    "    def speak(self,sound):\n",
    "        return f\"{self.name} says {sound}\"\n",
    "\n",
    "dog1 = GoldenRetriever(\"buddy\",3)\n",
    "dog1.speak(\"arf\")"
   ]
  },
  {
   "cell_type": "code",
   "execution_count": 10,
   "id": "c61cb730-c151-4187-81ce-bbe65e305407",
   "metadata": {},
   "outputs": [
    {
     "data": {
      "text/plain": [
       "16"
      ]
     },
     "execution_count": 10,
     "metadata": {},
     "output_type": "execute_result"
    }
   ],
   "source": [
    "class Rectangle:\n",
    "\n",
    "    def __init__(self, length,width):\n",
    "        self.length = length\n",
    "        self.width = width\n",
    "\n",
    "    def area(self):\n",
    "        return self.length * self.width\n",
    "\n",
    "class Square(Rectangle):\n",
    "\n",
    "    def __init__(self, side_length):\n",
    "        super().__init__(side_length,side_length)\n",
    "\n",
    "shape1 = Square(4)\n",
    "shape1.area()"
   ]
  },
  {
   "cell_type": "markdown",
   "id": "2896a255-727f-4d4d-901c-01a0b2dfada8",
   "metadata": {},
   "source": [
    "# Challenge: Mode A Farm"
   ]
  },
  {
   "cell_type": "code",
   "execution_count": 13,
   "id": "a4143903-774d-4896-ab07-a652283549db",
   "metadata": {},
   "outputs": [
    {
     "name": "stdout",
     "output_type": "stream",
     "text": [
      "Bessie is eating.\n",
      "Bessie says Moo!\n",
      "Bessie produces 10 liters of milk per day.\n",
      "Clucky is sleeping.\n",
      "Clucky says Cluck!\n",
      "Clucky lays 20 eggs per week.\n",
      "Porky is eating.\n",
      "Porky says Oink!\n",
      "Porky is happily rolling in the mud.\n"
     ]
    }
   ],
   "source": [
    "# Parent class\n",
    "class Animal:\n",
    "    def __init__(self, name, age):\n",
    "        self.name = name\n",
    "        self.age = age\n",
    "\n",
    "    def eat(self):\n",
    "        print(f\"{self.name} is eating.\")\n",
    "\n",
    "    def sleep(self):\n",
    "        print(f\"{self.name} is sleeping.\")\n",
    "\n",
    "\n",
    "# Child classes\n",
    "class Cow(Animal):\n",
    "    def __init__(self, name, age, milk_production):\n",
    "        super().__init__(name, age)\n",
    "        self.milk_production = milk_production\n",
    "\n",
    "    def make_sound(self):\n",
    "        print(f\"{self.name} says Moo!\")\n",
    "\n",
    "    def produce_milk(self):\n",
    "        print(f\"{self.name} produces {self.milk_production} liters of milk per day.\")\n",
    "\n",
    "class Chicken(Animal):\n",
    "    def __init__(self, name, age, egg_count):\n",
    "        super().__init__(name, age)\n",
    "        self.egg_count = egg_count\n",
    "\n",
    "    def make_sound(self):\n",
    "        print(f\"{self.name} says Cluck!\")\n",
    "\n",
    "    def lay_eggs(self):\n",
    "        print(f\"{self.name} lays {self.egg_count} eggs per week.\")\n",
    "\n",
    "\n",
    "class Pig(Animal):\n",
    "    def __init__(self, name, age, weight):\n",
    "        super().__init__(name, age)\n",
    "        self.weight = weight\n",
    "\n",
    "    def make_sound(self):\n",
    "        print(f\"{self.name} says Oink!\")\n",
    "\n",
    "    def roll_in_mud(self):\n",
    "        print(f\"{self.name} is happily rolling in the mud.\")\n",
    "\n",
    "\n",
    "cow = Cow(\"Bessie\", 5, 10)\n",
    "chicken = Chicken(\"Clucky\", 2, 20)\n",
    "pig = Pig(\"Porky\", 3, 150)\n",
    "\n",
    "cow.eat()\n",
    "cow.make_sound()\n",
    "cow.produce_milk()\n",
    "\n",
    "chicken.sleep()\n",
    "chicken.make_sound()\n",
    "chicken.lay_eggs()\n",
    "\n",
    "pig.eat()\n",
    "pig.make_sound()\n",
    "pig.roll_in_mud()"
   ]
  },
  {
   "cell_type": "code",
   "execution_count": null,
   "id": "dd0b331f-9928-4013-bb7f-637ec56b2656",
   "metadata": {},
   "outputs": [],
   "source": []
  }
 ],
 "metadata": {
  "kernelspec": {
   "display_name": "Python [conda env:ANCONDA]",
   "language": "python",
   "name": "conda-env-ANCONDA-py"
  },
  "language_info": {
   "codemirror_mode": {
    "name": "ipython",
    "version": 3
   },
   "file_extension": ".py",
   "mimetype": "text/x-python",
   "name": "python",
   "nbconvert_exporter": "python",
   "pygments_lexer": "ipython3",
   "version": "3.13.5"
  }
 },
 "nbformat": 4,
 "nbformat_minor": 5
}
