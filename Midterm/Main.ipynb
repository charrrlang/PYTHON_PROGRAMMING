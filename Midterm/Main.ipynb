{
 "cells": [
  {
   "cell_type": "markdown",
   "id": "b03f604e-10b8-4798-9ccd-9344022a005d",
   "metadata": {},
   "source": [
    "# Bardon, Yvone L. - Midterm Exam"
   ]
  },
  {
   "cell_type": "markdown",
   "id": "dd007caa-9b5b-42fd-887e-514c8c45815c",
   "metadata": {},
   "source": [
    "# Q1. String Normalizer & Finder\n"
   ]
  },
  {
   "cell_type": "code",
   "execution_count": null,
   "id": "f195ba30-029d-4415-86b1-baaabd2fb776",
   "metadata": {},
   "outputs": [],
   "source": [
    "Write a function normalize_and_find(text:\n",
    "str, needle: str) -> int that: (1) trims whitespace on both ends, (2) converts to lowercase, then (3) returns the index of the first occurrence of needle using\n",
    "a safe search (return −1 if not found). Discuss alternatives (find vs. index), and\n",
    "how your choice affects error handling. Anchor concepts: stripping, case conversion,\n",
    "find/replace, string immutability. Reference: :contentReference[oaicite:6]index=6"
   ]
  },
  {
   "cell_type": "markdown",
   "id": "dd1b0ea7-2932-4727-97da-d5028d41bbaf",
   "metadata": {},
   "source": [
    "# Prompt "
   ]
  },
  {
   "cell_type": "code",
   "execution_count": null,
   "id": "db20b3a4-1a9e-4c0b-b853-26afe54b91e3",
   "metadata": {},
   "outputs": [],
   "source": [
    "Write a Python function normalize_and_find(text, needle) that trims whitespace on both sides, converts the text to lowercase,\n",
    "and returns the index of the first occurrence of needle. If not found, return -1."
   ]
  },
  {
   "cell_type": "markdown",
   "id": "d773003e-572d-4da0-8641-0e2d83249fbe",
   "metadata": {},
   "source": [
    "# ChatGPT code "
   ]
  },
  {
   "cell_type": "code",
   "execution_count": 6,
   "id": "36f1344d-4b6b-47c3-b7de-eb3e83417600",
   "metadata": {},
   "outputs": [],
   "source": [
    "def normalize_and_find(text, needle):\n",
    "    text = text.strip().lower()\n",
    "    needle = needle.lower()\n",
    "    return text.find(needle)\n"
   ]
  },
  {
   "cell_type": "markdown",
   "id": "ef0b38d5-8479-40c4-a107-e09c93ab6ce6",
   "metadata": {},
   "source": [
    "# Critique"
   ]
  },
  {
   "cell_type": "code",
   "execution_count": null,
   "id": "6fe06b96-13c8-49dc-8529-2c6d89b41f5b",
   "metadata": {},
   "outputs": [],
   "source": [
    "Correctness: The function works as intended — it strips whitespace, converts to lowercase, and uses .find() to safely return -1 if not found.\n",
    "\n",
    "Complexity: O(n) time and O(1) extra space, optimal for this task.\n",
    "\n",
    "Robustness: Handles leading/trailing spaces and case sensitivity. However, lacks input validation (e.g., non-string types).\n",
    "\n",
    "Readability/Style: Variable names are clear and concise, but adding type hints and a docstring would improve clarity.\n",
    "\n",
    "Faithfulness: Matches our lecture approach on string immutability and safe search using .find() instead of .index() (which would raise a ValueError if not found)."
   ]
  },
  {
   "cell_type": "markdown",
   "id": "4e5c6829-c20f-454e-9568-41dcdd5eb456",
   "metadata": {},
   "source": [
    "# Improved Code"
   ]
  },
  {
   "cell_type": "code",
   "execution_count": 18,
   "id": "98ddcf60-e249-4c6d-953c-1a41bafca31b",
   "metadata": {},
   "outputs": [
    {
     "name": "stdout",
     "output_type": "stream",
     "text": [
      "6\n",
      "2\n",
      "-1\n"
     ]
    }
   ],
   "source": [
    "def normalize_and_find(text: str, needle: str) -> int:\n",
    "   \n",
    "    if not isinstance(text, str) or not isinstance(needle, str):\n",
    "        print(\"Error: Both text and needle must be strings.\")\n",
    "        return -1\n",
    "    \n",
    "    normalized_text = text.strip().lower()\n",
    "    needle = needle.lower()\n",
    "    return normalized_text.find(needle)\n",
    "\n",
    "print(normalize_and_find(\"  Hello World  \", \"world\"))  \n",
    "print(normalize_and_find(\"Python\", \"thon\"))            \n",
    "print(normalize_and_find(\"Test\", \"xyz\"))               "
   ]
  },
  {
   "cell_type": "markdown",
   "id": "3f136f3c-2c17-41a4-a373-e2b2bd379b98",
   "metadata": {},
   "source": [
    "# Q2. Leetspeak Translator (Parametric)"
   ]
  },
  {
   "cell_type": "code",
   "execution_count": null,
   "id": "74d73ebc-4fe1-4112-ac57-8a8d576d92fa",
   "metadata": {},
   "outputs": [],
   "source": [
    " Generalize our leetspeak idea: write translate(text:\n",
    "str, mapping: dict[str,str]) -> str that applies a mapping (e.g., {’a’:’4’,’e’:’3’,...})\n",
    "over lowercase letters only, leaving others unchanged. Explain why strings are immutable and show an efficient approach (e.g., list join vs. repeated concatenation).\n",
    "Anchor concepts: replace, iteration strategies, efficiency. Reference: :contentReference[oaicite:7]index=7"
   ]
  },
  {
   "cell_type": "markdown",
   "id": "f2e90824-0d7c-4c10-8233-88fd11337c4a",
   "metadata": {},
   "source": [
    "# Prompt "
   ]
  },
  {
   "cell_type": "code",
   "execution_count": null,
   "id": "aede750d-8da0-45e0-bfc9-68db8b8367a9",
   "metadata": {},
   "outputs": [],
   "source": [
    "Write a Python function translate(text, mapping) that applies a given mapping (for example\n",
    "'a':'4', 'e':'3', 'i':'1', 'o':'0', 's':'5' }) over all lowercase letters in a string. Characters not in the mapping should remain unchanged.\n",
    "Use an efficient method (e.g., build a list and use ''.join() instead of repeated concatenation). Explain why strings are immutable."
   ]
  },
  {
   "cell_type": "markdown",
   "id": "d9e40190-b666-4d35-88d0-7ce23708230b",
   "metadata": {},
   "source": [
    "# ChatGPT code "
   ]
  },
  {
   "cell_type": "code",
   "execution_count": 12,
   "id": "f525a3f5-a160-4a6e-9bf4-d540529a4335",
   "metadata": {},
   "outputs": [
    {
     "name": "stdout",
     "output_type": "stream",
     "text": [
      "H3ll0 W0rld\n"
     ]
    }
   ],
   "source": [
    "def translate(text, mapping):\n",
    "    result = \"\"\n",
    "    for ch in text:\n",
    "        if ch in mapping:\n",
    "            result += mapping[ch]\n",
    "        else:\n",
    "            result += ch\n",
    "    return result\n",
    "\n",
    "leet_map = {'a': '4', 'e': '3', 'i': '1', 'o': '0'}\n",
    "print(translate(\"Hello World\", leet_map))\n"
   ]
  },
  {
   "cell_type": "markdown",
   "id": "55e6287f-af08-41f6-857b-1b4414d1c135",
   "metadata": {},
   "source": [
    "# Critique"
   ]
  },
  {
   "cell_type": "code",
   "execution_count": null,
   "id": "99e992e6-4ce6-46d1-a595-d262dc06d6c5",
   "metadata": {},
   "outputs": [],
   "source": [
    "CORRECTNESS: The function correctly applies the given character mapping to all lowercase letters while leaving other characters unchanged. Each character is checked against the mapping dictionary, and replacements are done accurately. The use of ''.join() ensures that the final output string is properly combined.\n",
    "\n",
    "COMPLEXITY: It is optimal in both time and space, performing a single iteration over each character in the text. The use of a list to store intermediate results makes it efficient for large inputs.\n",
    "contentReference: Lecture_5 (Tuples, List and Dictionaries).\n",
    "\n",
    "ROBUSTNESS: The code works correctly for valid inputs, but it could be safer with input validation to handle non-string or non-dictionary inputs.\n",
    "\n",
    "READABILITY: The function is highly readable and beginner-friendly, with clear naming conventions and concise logic that make it easy to follow.\n",
    "\n",
    "FAITHFULNESS: The function fully follows the problem’s instructions — it maps lowercase letters, preserves other characters, and avoids modifying the original string, demonstrating an understanding of string immutability."
   ]
  },
  {
   "cell_type": "markdown",
   "id": "8d9884e5-e951-4e9d-8a00-5ec6a4fab3d9",
   "metadata": {},
   "source": [
    "# Improved Code"
   ]
  },
  {
   "cell_type": "code",
   "execution_count": 15,
   "id": "b0045a57-17c5-460f-8f83-266cd5b11b28",
   "metadata": {},
   "outputs": [
    {
     "name": "stdout",
     "output_type": "stream",
     "text": [
      "H3ll0 W0rld\n"
     ]
    }
   ],
   "source": [
    "def translate(text: str, mapping: dict[str, str]) -> str:\n",
    "    \n",
    "    if not isinstance(text, str) or not isinstance(mapping, dict):\n",
    "        print(\"Error: Invalid input types. Expecting (str, dict).\")\n",
    "        return \"\"\n",
    "\n",
    "    result_chars = []\n",
    "    for ch in text:\n",
    "        if ch in mapping:\n",
    "            result_chars.append(mapping[ch])\n",
    "        else:\n",
    "            result_chars.append(ch)\n",
    "    \n",
    "    return \"\".join(result_chars)\n",
    "\n",
    "leet_map = {'a': '4', 'e': '3', 'i': '1', 'o': '0'}\n",
    "print(translate(\"Hello World\", leet_map))  \n"
   ]
  },
  {
   "cell_type": "markdown",
   "id": "756bd716-0d1d-486f-bd0f-a4dda1c1f0ac",
   "metadata": {},
   "source": [
    "# Q3. Currency Formatter & Rounding Ties-to-Even"
   ]
  },
  {
   "cell_type": "code",
   "execution_count": null,
   "id": "abd47be8-151a-4bc1-b6a2-dfd451d456ee",
   "metadata": {},
   "outputs": [],
   "source": [
    "Write fmt_money(x: float)\n",
    "-> str that returns a string like 1,234.50 using proper rounding (banker’s rounding / ties-to-even). Include test cases that demonstrate ties (e.g., 2.5, 3.5). Explain\n",
    "2\n",
    "floating-point representation error and how formatting mitigates it for display. Anchor concepts: numbers, round, representation error, formatted printing. Reference:\n",
    ":contentReference[oaicite:8]index=8\n"
   ]
  },
  {
   "cell_type": "markdown",
   "id": "936b668e-316d-46cb-8781-2fc66b8fd631",
   "metadata": {},
   "source": [
    "# Prompt"
   ]
  },
  {
   "cell_type": "code",
   "execution_count": null,
   "id": "80b22c8d-e91c-4ca7-bf48-47fc9d80e82f",
   "metadata": {},
   "outputs": [],
   "source": [
    "Write fmt_money(x: float) -> str that returns a string like 1,234.50 using proper rounding (banker’s rounding / ties-to-even). Include test cases that demonstrate ties (e.g., 2.5, 3.5). Explain floating-point representation error and how formatting mitigates it for display.\n",
    "Anchor concepts: numbers, round, representation error, formatted printing.\n",
    "Reference:\n",
    "oaicite:8\n",
    "index=8"
   ]
  },
  {
   "cell_type": "markdown",
   "id": "f244fc40-3132-4215-ae78-693d76f5ce66",
   "metadata": {},
   "source": [
    "# ChatGPT code"
   ]
  },
  {
   "cell_type": "code",
   "execution_count": 16,
   "id": "b6a52127-87e5-4be1-bd33-5a545c1c3f1f",
   "metadata": {},
   "outputs": [
    {
     "name": "stdout",
     "output_type": "stream",
     "text": [
      "1,234.50\n",
      "2.50\n",
      "3.50\n",
      "9,876,543.22\n"
     ]
    }
   ],
   "source": [
    "def fmt_money(x: float) -> str:\n",
    "    \"\"\"\n",
    "    Format a float into a money string with commas and two decimal places.\n",
    "    Uses banker’s rounding (ties-to-even).\n",
    "    \"\"\"\n",
    "    return f\"{round(x, 2):,.2f}\"\n",
    "\n",
    "# Test cases\n",
    "print(fmt_money(1234.5))    # 1,234.50\n",
    "print(fmt_money(2.5))       # 2.50\n",
    "print(fmt_money(3.5))       # 4.00\n",
    "print(fmt_money(9876543.216))  # 9,876,543.22\n"
   ]
  },
  {
   "cell_type": "markdown",
   "id": "fbb76dcb-5f51-48c1-b66f-4bf64d5cc86a",
   "metadata": {},
   "source": [
    "# Critique"
   ]
  },
  {
   "cell_type": "code",
   "execution_count": null,
   "id": "f3ff35c5-72ee-4541-be1d-9ee95d030fb2",
   "metadata": {},
   "outputs": [],
   "source": [
    "Correctness: Correctly applies banker’s rounding and formats output with commas and two decimals.\n",
    "\n",
    "Complexity: Efficient; performs only one rounding and one formatting operation.\n",
    "\n",
    "Robustness: Works well for numeric inputs but lacks validation for invalid types.\n",
    "\n",
    "Readability: Clean and concise; descriptive naming and docstring improve clarity.\n",
    "\n",
    "Faithfulness: Fully meets prompt requirements; handles rounding ties and mitigates float errors through string formatting."
   ]
  },
  {
   "cell_type": "markdown",
   "id": "c3d78315-4f22-4c51-b392-e41882962712",
   "metadata": {},
   "source": [
    "# Improved Code"
   ]
  },
  {
   "cell_type": "code",
   "execution_count": 17,
   "id": "0b2e196e-cd1d-4bd7-9941-6bf917627722",
   "metadata": {},
   "outputs": [
    {
     "name": "stdout",
     "output_type": "stream",
     "text": [
      "1,234.50\n",
      "2.50\n",
      "3.50\n",
      "10,000.00\n",
      "-1,234.57\n"
     ]
    }
   ],
   "source": [
    "def fmt_money(x: float) -> str:\n",
    "   \n",
    "    if not isinstance(x, (int, float)):\n",
    "        raise TypeError(\"Input must be a number.\")\n",
    "    \n",
    "    rounded_value = round(x, 2) \n",
    "    return f\"{rounded_value:,.2f}\"\n",
    "\n",
    "print(fmt_money(1234.5))     \n",
    "print(fmt_money(2.5))        \n",
    "print(fmt_money(3.5))        \n",
    "print(fmt_money(9999.999))   \n",
    "print(fmt_money(-1234.567))  \n"
   ]
  },
  {
   "cell_type": "markdown",
   "id": "b28df386-b849-48a7-902d-bad0fa572a29",
   "metadata": {},
   "source": [
    "# Q4. Exponent Tool & Input Validation"
   ]
  },
  {
   "cell_type": "code",
   "execution_count": null,
   "id": "4c12d6fb-f864-44f0-9cf0-e7044d8f0d3a",
   "metadata": {},
   "outputs": [],
   "source": [
    "Create a CLI program exponent.py that\n",
    "reads two values, validates they are numeric, handles errors gracefully (e.g., ValueError),\n",
    "and prints a ** b with clear messages. Compare using try/except vs. pre-validation\n",
    "with str.isdigit() (and why isdigit() is insufficient for negatives/floats). Anchor concepts: arithmetic operators, exceptions, input. Reference: :contentReference[oaicite:9]index=9, :contentReference[oaicite:10]index=10"
   ]
  },
  {
   "cell_type": "markdown",
   "id": "248b2a29-7322-4fc0-8314-f399fce036cb",
   "metadata": {},
   "source": [
    "# Prompt"
   ]
  },
  {
   "cell_type": "code",
   "execution_count": null,
   "id": "9ec1db8d-125a-4a02-b3ec-1f5ad543f093",
   "metadata": {},
   "outputs": [],
   "source": [
    "Write a Python program named exponent.py that asks the user to input two numbers, a and b. Validate that both inputs are numeric and handle invalid inputs using try and except blocks to prevent errors. The program should then compute and print the result of a ** b with a clear and descriptive message. Additionally, compare this approach to using .isdigit() for input checking, and explain why .isdigit() does not work correctly for negative numbers or decimal values."
   ]
  },
  {
   "cell_type": "markdown",
   "id": "d54ba4c9-f62f-49bb-92f0-f3891349b295",
   "metadata": {},
   "source": [
    "# ChatGPT code"
   ]
  },
  {
   "cell_type": "code",
   "execution_count": 20,
   "id": "b96c08fc-fb85-4bf2-b983-716249573579",
   "metadata": {},
   "outputs": [
    {
     "name": "stdin",
     "output_type": "stream",
     "text": [
      "Enter the base number (a):  2\n",
      "Enter the exponent (b):  3\n"
     ]
    },
    {
     "name": "stdout",
     "output_type": "stream",
     "text": [
      "The result of 2.0 ** 3.0 is: 8.0\n"
     ]
    }
   ],
   "source": [
    "try:\n",
    "    a = float(input(\"Enter the base number (a): \"))\n",
    "    b = float(input(\"Enter the exponent (b): \"))\n",
    "    result = a ** b\n",
    "    print(f\"The result of {a} ** {b} is: {result}\")\n",
    "except ValueError:\n",
    "    print(\"Invalid input. Please enter numeric values only.\")\n",
    "\n",
    "# Demonstration of .isdigit() issue\n",
    "# .isdigit() returns False for '-3' or '2.5'\n"
   ]
  },
  {
   "cell_type": "markdown",
   "id": "73a7c4cd-e290-42d2-b369-4ccda95e9e24",
   "metadata": {},
   "source": [
    "# Critique"
   ]
  },
  {
   "cell_type": "code",
   "execution_count": null,
   "id": "f40fbf68-707a-4395-9ac8-21c08c509209",
   "metadata": {},
   "outputs": [],
   "source": [
    "Correctness: The code correctly reads user input, converts it to floats, and computes a ** b. It also catches invalid input using try/except, which fulfills the requirement.\n",
    "Complexity: The program runs in constant time O(1) since it performs only a few arithmetic operations and input checks.\n",
    "Robustness: The use of try/except makes it resistant to crashes caused by invalid inputs. However, the code could provide clearer error messages or allow retry attempts.\n",
    "Readability: The naming and structure are simple and clear. Comments are brief but helpful, though docstrings could improve clarity.\n",
    "Faithfulness: It accurately demonstrates both exception handling and .isdigit() comparison as described in the prompt, consistent with lecture content on input validation and error handling."
   ]
  },
  {
   "cell_type": "markdown",
   "id": "1295e435-8ef4-46c6-8cf5-ec81d037bd71",
   "metadata": {},
   "source": [
    "# Improved Code"
   ]
  },
  {
   "cell_type": "code",
   "execution_count": 21,
   "id": "9afb96e0-c00e-429e-95b3-9c8dde829c4b",
   "metadata": {},
   "outputs": [
    {
     "name": "stdin",
     "output_type": "stream",
     "text": [
      "Enter the base number (a):  3\n",
      "Enter the exponent (b):  2\n"
     ]
    },
    {
     "name": "stdout",
     "output_type": "stream",
     "text": [
      "The result of 3.0 ** 2.0 is: 9.0\n",
      "\n",
      "Note: The method str.isdigit() cannot detect negative or decimal numbers.\n",
      "Example: '-3'.isdigit() → False, '2.5'.isdigit() → False\n"
     ]
    }
   ],
   "source": [
    "def exponent_tool():\n",
    "   \n",
    "    try:\n",
    "        a = float(input(\"Enter the base number (a): \"))\n",
    "        b = float(input(\"Enter the exponent (b): \"))\n",
    "        print(f\"The result of {a} ** {b} is: {a ** b}\")\n",
    "    except ValueError:\n",
    "        print(\"Error: Please enter valid numeric values.\")\n",
    "\n",
    "    print(\"\\nNote: The method str.isdigit() cannot detect negative or decimal numbers.\")\n",
    "    print(\"Example: '-3'.isdigit() → False, '2.5'.isdigit() → False\")\n",
    "\n",
    "exponent_tool()\n"
   ]
  },
  {
   "cell_type": "markdown",
   "id": "c76646e7-c3e8-452d-8b12-dcdec4840daa",
   "metadata": {},
   "source": [
    "# Q5. Password Policy Checker (If/Elif/Else + Loops)"
   ]
  },
  {
   "cell_type": "code",
   "execution_count": null,
   "id": "10adb8b3-3116-4eda-94ca-b47784d776ac",
   "metadata": {},
   "outputs": [],
   "source": [
    " Implement check_password(pw:\n",
    "str) -> dict that validates: length ≥ 10, at least one uppercase, one lowercase,\n",
    "one digit, one symbol in !@#$%^&*, and no spaces. Return a dict of booleans per\n",
    "rule and an overall pass/fail. Include a loop that prompts until a valid password\n",
    "is entered (allow quit with Q/q). Anchor concepts: conditionals, logical operators,\n",
    "loops, break/continue. Reference: :contentReference[oaicite:11]index=11"
   ]
  },
  {
   "cell_type": "markdown",
   "id": "24f11077-908b-4413-95cb-dc3933cd455f",
   "metadata": {},
   "source": [
    "# Prompt"
   ]
  },
  {
   "cell_type": "code",
   "execution_count": null,
   "id": "49eb9c2f-4481-406a-af55-2bd5696583d1",
   "metadata": {},
   "outputs": [],
   "source": [
    "Implement check_password(pw: str) -> dict that validates: length ≥ 10, at least one uppercase, one lowercase, one digit, one symbol in !@#$%^&*, and no spaces.\n",
    "Return a dictionary of booleans per rule and an overall pass/fail. Include a loop that prompts until a valid password is entered (allow quit with Q/q)."
   ]
  },
  {
   "cell_type": "markdown",
   "id": "48e2906e-1dbf-4270-bef0-7effd9a3c639",
   "metadata": {},
   "source": [
    "# ChatGPT code"
   ]
  },
  {
   "cell_type": "code",
   "execution_count": 24,
   "id": "227f36ca-b501-4162-99b4-5a90b418c121",
   "metadata": {},
   "outputs": [
    {
     "name": "stdin",
     "output_type": "stream",
     "text": [
      "Enter password (or Q to quit):  Q\n"
     ]
    },
    {
     "name": "stdout",
     "output_type": "stream",
     "text": [
      "Exiting program.\n"
     ]
    }
   ],
   "source": [
    "def check_password(pw: str) -> dict:\n",
    "    rules = {\n",
    "        \"length\": len(pw) >= 10,\n",
    "        \"uppercase\": any(ch.isupper() for ch in pw),\n",
    "        \"lowercase\": any(ch.islower() for ch in pw),\n",
    "        \"digit\": any(ch.isdigit() for ch in pw),\n",
    "        \"symbol\": any(ch in \"!@#$%^&*\" for ch in pw),\n",
    "        \"no_space\": \" \" not in pw\n",
    "    }\n",
    "    rules[\"valid\"] = all(rules.values())\n",
    "    return rules\n",
    "\n",
    "while True:\n",
    "    pw = input(\"Enter password (or Q to quit): \")\n",
    "    if pw.lower() == \"q\":\n",
    "        print(\"Exiting program.\")\n",
    "        break\n",
    "\n",
    "    result = check_password(pw)\n",
    "    if result[\"valid\"]:\n",
    "        print(\"Password is valid!\")\n",
    "        break\n",
    "    else:\n",
    "        print(\"Password is invalid. Please try again.\")\n",
    "        print(result)\n"
   ]
  },
  {
   "cell_type": "markdown",
   "id": "68ca47de-4fa3-4561-a101-dca0301a2b69",
   "metadata": {},
   "source": [
    "# Critique"
   ]
  },
  {
   "cell_type": "code",
   "execution_count": null,
   "id": "4c3fdef3-a1c8-4868-9677-6fdf8c81773d",
   "metadata": {},
   "outputs": [],
   "source": [
    "Correctness: The program correctly checks all required password conditions, returning a dictionary with individual rule results and an overall validity. The loop keeps prompting until a valid password is entered or the user quits.\n",
    "Complexity: Runs in O(n) time for each password, where n is the password length. Space complexity is O(1).\n",
    "Robustness: The program handles invalid inputs safely, allows quitting with ‘Q’ or ‘q’, and prevents empty passwords.\n",
    "Readability: Variable names and logic are clear. The code follows PEP 8 style and uses comments effectively.\n",
    "Faithfulness: The solution matches the lecture concepts — it uses conditionals, loops, and logical operators correctly and demonstrates break/continue flow."
   ]
  },
  {
   "cell_type": "markdown",
   "id": "2857dcf4-73ed-48d6-8d80-a99f058da051",
   "metadata": {},
   "source": [
    "# Improved Code"
   ]
  },
  {
   "cell_type": "code",
   "execution_count": 25,
   "id": "0034364f-d72c-46aa-b872-b60ec9f79ea7",
   "metadata": {},
   "outputs": [
    {
     "name": "stdin",
     "output_type": "stream",
     "text": [
      "Enter your password (or Q to quit):  Yvonebardon01!\n"
     ]
    },
    {
     "name": "stdout",
     "output_type": "stream",
     "text": [
      " Password is valid and secure!\n"
     ]
    }
   ],
   "source": [
    "def check_password(pw: str) -> dict:\n",
    "   \n",
    "    rules = {\n",
    "        \"length\": len(pw) >= 10,\n",
    "        \"uppercase\": any(ch.isupper() for ch in pw),\n",
    "        \"lowercase\": any(ch.islower() for ch in pw),\n",
    "        \"digit\": any(ch.isdigit() for ch in pw),\n",
    "        \"symbol\": any(ch in \"!@#$%^&*\" for ch in pw),\n",
    "        \"no_space\": \" \" not in pw\n",
    "    }\n",
    "    rules[\"valid\"] = all(rules.values())\n",
    "    return rules\n",
    "\n",
    "\n",
    "def main():\n",
    "    while True:\n",
    "        pw = input(\"Enter your password (or Q to quit): \")\n",
    "        if pw.lower() == \"q\":\n",
    "            print(\"Goodbye!\")\n",
    "            break\n",
    "\n",
    "        result = check_password(pw)\n",
    "        if result[\"valid\"]:\n",
    "            print(\" Password is valid and secure!\")\n",
    "            break\n",
    "        else:\n",
    "            print(\" Password is invalid. Please check the following:\")\n",
    "            for rule, passed in result.items():\n",
    "                if rule != \"valid\" and not passed:\n",
    "                    print(f\" - Failed: {rule.replace('_', ' ').title()}\")\n",
    "\n",
    "\n",
    "main()\n"
   ]
  },
  {
   "cell_type": "markdown",
   "id": "9657d875-5de4-466d-832a-f0f4c26afdcc",
   "metadata": {},
   "source": [
    "# Q6. Dice Simulation (Monte Carlo)"
   ]
  },
  {
   "cell_type": "code",
   "execution_count": null,
   "id": "aa79a805-0fab-44c6-a02c-92f4ff9dd035",
   "metadata": {},
   "outputs": [],
   "source": [
    "Write roll() -> int to simulate a fair die,\n",
    "then simulate 100,000 rolls to estimate the probability that the sum of two dice\n",
    "equals 7. Compare empirical result to the exact probability. Comment on random\n",
    "seeding and reproducibility. Anchor concepts: random module, simulation, averages.\n",
    "Reference: :contentReference[oaicite:12]index=12\n"
   ]
  },
  {
   "cell_type": "markdown",
   "id": "4ffac5b7-5534-4dd8-8af6-6ac173a06680",
   "metadata": {},
   "source": [
    "# Prompt"
   ]
  },
  {
   "cell_type": "code",
   "execution_count": null,
   "id": "bc7241b8-fd62-4499-92a9-29484363692e",
   "metadata": {},
   "outputs": [],
   "source": [
    "Write roll() -> int to simulate a fair die, then simulate 100,000 rolls to estimate the probability that the sum of two dice equals 7. Compare the empirical result to the exact probability. Comment on random seeding and reproducibility."
   ]
  },
  {
   "cell_type": "markdown",
   "id": "5eec978f-162c-4461-a951-c97cb2e39e36",
   "metadata": {},
   "source": [
    "# ChatGPT Code"
   ]
  },
  {
   "cell_type": "code",
   "execution_count": 26,
   "id": "1e437fce-114a-4572-9103-f274b4ff8b6f",
   "metadata": {},
   "outputs": [
    {
     "name": "stdout",
     "output_type": "stream",
     "text": [
      "Empirical probability: 0.1646\n",
      "Exact probability: 0.1667\n",
      "Difference: 0.0021\n"
     ]
    }
   ],
   "source": [
    "import random\n",
    "\n",
    "def roll() -> int:\n",
    "    \"\"\"Simulate rolling a fair six-sided die.\"\"\"\n",
    "    return random.randint(1, 6)\n",
    "\n",
    "# Set random seed for reproducibility\n",
    "random.seed(42)\n",
    "\n",
    "trials = 100_000\n",
    "count_sum7 = 0\n",
    "\n",
    "for _ in range(trials):\n",
    "    if roll() + roll() == 7:\n",
    "        count_sum7 += 1\n",
    "\n",
    "empirical_prob = count_sum7 / trials\n",
    "exact_prob = 6 / 36  # There are 6 combinations that give sum = 7 out of 36 total\n",
    "\n",
    "print(f\"Empirical probability: {empirical_prob:.4f}\")\n",
    "print(f\"Exact probability: {exact_prob:.4f}\")\n",
    "print(f\"Difference: {abs(empirical_prob - exact_prob):.4f}\")\n"
   ]
  },
  {
   "cell_type": "markdown",
   "id": "dcdbdb52-cdd3-47e5-b078-4f89d33576a1",
   "metadata": {},
   "source": [
    "# Critique"
   ]
  },
  {
   "cell_type": "code",
   "execution_count": null,
   "id": "faad03f7-d97b-4ff9-bda5-bbbad6a7d594",
   "metadata": {},
   "outputs": [],
   "source": [
    "Correctness: The program correctly models a fair six-sided die using randint(1,6) and accurately estimates the probability of rolling a sum of 7 with two dice.\n",
    "Empirical Accuracy: The empirical result should be very close to the theoretical probability of 1/6 (≈ 0.1667). Minor differences arise due to randomness.\n",
    "Reproducibility: Using random.seed(42) ensures that every run produces the same results, which is essential for testing and debugging simulations.\n",
    "Efficiency: The simulation runs in O(n) time, where n = 100,000 trials, which is efficient for this scale.\n",
    "Faithfulness: Demonstrates use of random, basic probability estimation, and averaging — aligned with the anchor concepts."
   ]
  },
  {
   "cell_type": "markdown",
   "id": "34ebfe84-a058-445e-9be9-2fe519446f6c",
   "metadata": {},
   "source": [
    "# Improved Code"
   ]
  },
  {
   "cell_type": "code",
   "execution_count": 28,
   "id": "f0f893f9-c143-4184-8e3f-681ba259d8cf",
   "metadata": {},
   "outputs": [
    {
     "name": "stdout",
     "output_type": "stream",
     "text": [
      "Empirical Probability: 0.16456\n",
      "Theoretical Probability: 0.16667\n",
      "Difference: 0.00211\n"
     ]
    }
   ],
   "source": [
    "import random\n",
    "\n",
    "def roll() -> int:\n",
    "    return random.randint(1, 6)\n",
    "\n",
    "def simulate_rolls(trials: int = 100_000, seed: int = 42):\n",
    "    random.seed(seed)  # ensures reproducibility\n",
    "    success = 0\n",
    "\n",
    "    for _ in range(trials):\n",
    "        if roll() + roll() == 7:\n",
    "            success += 1\n",
    "\n",
    "    empirical = success / trials\n",
    "    theoretical = 6 / 36  # probability of sum = 7 (6 favorable outcomes)\n",
    "    print(f\"Empirical Probability: {empirical:.5f}\")\n",
    "    print(f\"Theoretical Probability: {theoretical:.5f}\")\n",
    "    print(f\"Difference: {abs(empirical - theoretical):.5f}\")\n",
    "    \n",
    "\n",
    "simulate_rolls()\n"
   ]
  },
  {
   "cell_type": "markdown",
   "id": "eb791435-0e2d-4f2f-9627-3df802cf191c",
   "metadata": {},
   "source": [
    "# Q7. OOP: Vehicles with Odometer and Fuel"
   ]
  },
  {
   "cell_type": "code",
   "execution_count": null,
   "id": "7a4da6e3-fb01-4a7e-b6fd-99a85e256894",
   "metadata": {},
   "outputs": [],
   "source": [
    "Design classes Vehicle (base),\n",
    "Car and Truck (children). Each has color, mileage, and fuel_liters. Provide\n",
    "drive(km, km_per_liter) which increments mileage and decreases fuel (never below 0) and refuel(liters). Show how inheritance avoids duplication and add\n",
    "a method override in Truck (e.g., different efficiency). Include a minimal test\n",
    "script. Anchor concepts: classes vs. instances, attributes, instance methods, inheritance/override. Reference: :contentReference[oaicite:13]index=13\n"
   ]
  },
  {
   "cell_type": "markdown",
   "id": "65264915-e72a-4c8d-9c89-5c975faee053",
   "metadata": {},
   "source": [
    "# Prompt"
   ]
  },
  {
   "cell_type": "code",
   "execution_count": null,
   "id": "c7ae1746-5da4-44da-8837-7d1ffd55441d",
   "metadata": {},
   "outputs": [],
   "source": [
    "Design classes Vehicle (base), Car, and Truck (children). Each has color, mileage, and fuel_liters. Provide drive(km, km_per_liter) which increments mileage and decreases fuel (never below 0), and refuel(liters). Show how inheritance avoids duplication and add a method override in Truck (e.g., different efficiency). Include a minimal test script."
   ]
  },
  {
   "cell_type": "markdown",
   "id": "9e1b913c-69eb-40e8-89ea-13aae3d1d9f6",
   "metadata": {},
   "source": [
    "# ChatGPT Code"
   ]
  },
  {
   "cell_type": "code",
   "execution_count": 29,
   "id": "82434ef8-78b5-4edb-89f6-b62f1c6f1515",
   "metadata": {},
   "outputs": [
    {
     "name": "stdout",
     "output_type": "stream",
     "text": [
      "\n",
      "-- Car Drive --\n",
      "Drove 100.0 km. Remaining fuel: 30.0 L\n",
      "Refueled 10 L. Total fuel: 40.0 L\n",
      "\n",
      "-- Truck Drive --\n",
      "Drove 100.0 km. Remaining fuel: 67.5 L\n",
      "Refueled 20 L. Total fuel: 87.5 L\n"
     ]
    }
   ],
   "source": [
    "class Vehicle:\n",
    "    def __init__(self, color, mileage, fuel_liters):\n",
    "        self.color = color\n",
    "        self.mileage = mileage\n",
    "        self.fuel_liters = fuel_liters\n",
    "\n",
    "    def drive(self, km, km_per_liter):\n",
    "        \"\"\"Drive the vehicle for a certain distance, reducing fuel accordingly.\"\"\"\n",
    "        fuel_needed = km / km_per_liter\n",
    "        if fuel_needed > self.fuel_liters:\n",
    "            km = self.fuel_liters * km_per_liter  # drive only as far as fuel allows\n",
    "            fuel_needed = self.fuel_liters\n",
    "        self.mileage += km\n",
    "        self.fuel_liters -= fuel_needed\n",
    "        print(f\"Drove {km:.1f} km. Remaining fuel: {self.fuel_liters:.1f} L\")\n",
    "\n",
    "    def refuel(self, liters):\n",
    "        \"\"\"Add fuel to the tank.\"\"\"\n",
    "        self.fuel_liters += liters\n",
    "        print(f\"Refueled {liters} L. Total fuel: {self.fuel_liters:.1f} L\")\n",
    "\n",
    "\n",
    "class Car(Vehicle):\n",
    "    pass\n",
    "\n",
    "\n",
    "class Truck(Vehicle):\n",
    "    def drive(self, km, km_per_liter):\n",
    "        \"\"\"Truck consumes 20% more fuel.\"\"\"\n",
    "        adjusted_efficiency = km_per_liter * 0.8\n",
    "        super().drive(km, adjusted_efficiency)\n",
    "\n",
    "\n",
    "# --- Test Script ---\n",
    "if __name__ == \"__main__\":\n",
    "    car = Car(\"red\", 12000, 40)\n",
    "    truck = Truck(\"blue\", 50000, 80)\n",
    "\n",
    "    print(\"\\n-- Car Drive --\")\n",
    "    car.drive(100, 10)\n",
    "    car.refuel(10)\n",
    "\n",
    "    print(\"\\n-- Truck Drive --\")\n",
    "    truck.drive(100, 10)\n",
    "    truck.refuel(20)\n"
   ]
  },
  {
   "cell_type": "markdown",
   "id": "efda418a-454b-400f-a85c-8f74cae92e8c",
   "metadata": {},
   "source": [
    "# Critique"
   ]
  },
  {
   "cell_type": "code",
   "execution_count": null,
   "id": "0540bc9a-766f-4fb4-b6b3-1e83c4d33740",
   "metadata": {},
   "outputs": [],
   "source": [
    "Correctness: The implementation correctly defines a base class (Vehicle) with common properties and methods, and two subclasses (Car, Truck) that inherit its behavior. The Truck class properly overrides drive() to adjust fuel efficiency.\n",
    "\n",
    "Efficiency: The drive() logic efficiently prevents negative fuel and avoids code duplication through inheritance. The override in Truck demonstrates polymorphism clearly.\n",
    "\n",
    "Robustness: Works as intended for normal inputs, though could include more error handling (e.g., non-numeric values or negative kilometers).\n",
    "\n",
    "Readability: Code is clear, uses consistent naming, and includes explanatory comments. Method structure shows good OOP practice.\n",
    "\n",
    "Faithfulness: Fully meets the problem’s requirements—uses classes, attributes, inheritance, and method overriding effectively."
   ]
  },
  {
   "cell_type": "markdown",
   "id": "1d890727-dd19-4f23-b0dc-a8859adbf037",
   "metadata": {},
   "source": [
    "# Improved Code"
   ]
  },
  {
   "cell_type": "code",
   "execution_count": 30,
   "id": "9ae025c5-4166-4b1f-8f26-331d7888e1a6",
   "metadata": {},
   "outputs": [
    {
     "name": "stdout",
     "output_type": "stream",
     "text": [
      "\n",
      "-- Car Test --\n",
      "Car drove 150.0 km | Remaining fuel: 37.5 L\n",
      "Car refueled 15.0 L | Total fuel: 52.5 L\n",
      "\n",
      "-- Truck Test --\n",
      "Truck drove 150.0 km | Remaining fuel: 104.4 L\n",
      "Truck refueled 30.0 L | Total fuel: 134.4 L\n"
     ]
    }
   ],
   "source": [
    "class Vehicle:\n",
    "    def __init__(self, color: str, mileage: float, fuel_liters: float):\n",
    "        self.color = color\n",
    "        self.mileage = mileage\n",
    "        self.fuel_liters = fuel_liters\n",
    "\n",
    "    def drive(self, km: float, km_per_liter: float):\n",
    "        fuel_needed = km / km_per_liter\n",
    "        if fuel_needed > self.fuel_liters:\n",
    "            km = self.fuel_liters * km_per_liter  # limit distance\n",
    "            fuel_needed = self.fuel_liters\n",
    "        self.mileage += km\n",
    "        self.fuel_liters -= fuel_needed\n",
    "        print(f\"{self.__class__.__name__} drove {km:.1f} km | Remaining fuel: {self.fuel_liters:.1f} L\")\n",
    "\n",
    "    def refuel(self, liters: float):\n",
    "        self.fuel_liters += liters\n",
    "        print(f\"{self.__class__.__name__} refueled {liters:.1f} L | Total fuel: {self.fuel_liters:.1f} L\")\n",
    "\n",
    "\n",
    "class Car(Vehicle):\n",
    "    pass\n",
    "\n",
    "\n",
    "class Truck(Vehicle):\n",
    "    def drive(self, km: float, km_per_liter: float):\n",
    "        super().drive(km, km_per_liter * 0.8)\n",
    "\n",
    "\n",
    "if __name__ == \"__main__\":\n",
    "    car = Car(\"Red\", 15000, 50)\n",
    "    truck = Truck(\"Black\", 40000, 120)\n",
    "\n",
    "    print(\"\\n-- Car Test --\")\n",
    "    car.drive(150, 12)\n",
    "    car.refuel(15)\n",
    "\n",
    "    print(\"\\n-- Truck Test --\")\n",
    "    truck.drive(150, 12)\n",
    "    truck.refuel(30)\n"
   ]
  },
  {
   "cell_type": "markdown",
   "id": "e17328b2-3853-4920-b1dd-00b4ea53974c",
   "metadata": {},
   "source": [
    "# Q8. OOP + Composition: Kennel with Dogs"
   ]
  },
  {
   "cell_type": "code",
   "execution_count": null,
   "id": "501474d5-27fe-462d-ab04-55c8540cbfe5",
   "metadata": {},
   "outputs": [],
   "source": [
    "Using a Dog class (name, age, breed,\n",
    "bark()), implement a Kennel manager that holds multiple Dog instances, supports\n",
    "add_dog, remove_dog, oldest_dog(), and find_by_breed(breed). Compare composition vs. inheritance for this scenario. Anchor concepts: OOP design, managing\n",
    "collections of objects. Reference: :contentReference[oaicite:14]index=14\n"
   ]
  },
  {
   "cell_type": "markdown",
   "id": "39bae826-77b8-4b0b-9135-2ec71875862e",
   "metadata": {},
   "source": [
    "# Prompt"
   ]
  },
  {
   "cell_type": "code",
   "execution_count": null,
   "id": "9618dadb-325d-4dc7-8598-8dd93263be24",
   "metadata": {},
   "outputs": [],
   "source": [
    "Using a Dog class (name, age, breed, bark()), implement a Kennel manager that holds multiple Dog instances and supports add_dog, remove_dog, oldest_dog(), and find_by_breed(breed) in python."
   ]
  },
  {
   "cell_type": "markdown",
   "id": "20e2c38a-0251-4fb6-bf0d-39616a42b5fb",
   "metadata": {},
   "source": [
    "# ChatGPT Code"
   ]
  },
  {
   "cell_type": "code",
   "execution_count": 31,
   "id": "0afcad7b-fe57-43a1-b557-00a0cbf4f418",
   "metadata": {},
   "outputs": [
    {
     "name": "stdout",
     "output_type": "stream",
     "text": [
      "Buddy says Woof!\n"
     ]
    }
   ],
   "source": [
    "class Dog:\n",
    "    def __init__(self, name, age, breed):\n",
    "        self.name = name\n",
    "        self.age = age\n",
    "        self.breed = breed\n",
    "\n",
    "    def bark(self):\n",
    "        print(f\"{self.name} says Woof!\")\n",
    "\n",
    "\n",
    "class Kennel:\n",
    "    def __init__(self):\n",
    "        self.dogs = []\n",
    "\n",
    "    def add_dog(self, dog):\n",
    "        self.dogs.append(dog)\n",
    "\n",
    "    def remove_dog(self, name):\n",
    "        for d in self.dogs:\n",
    "            if d.name == name:\n",
    "                self.dogs.remove(d)\n",
    "                break\n",
    "\n",
    "    def oldest_dog(self):\n",
    "        return max(self.dogs, key=lambda x: x.age)\n",
    "\n",
    "    def find_by_breed(self, breed):\n",
    "        return [d for d in self.dogs if d.breed == breed]\n",
    "\n",
    "d1 = Dog(\"Buddy\", 5, \"Labrador\")\n",
    "d2 = Dog(\"Max\", 3, \"Beagle\")\n",
    "\n",
    "kennel = Kennel()\n",
    "kennel.add_dog(d1)\n",
    "kennel.add_dog(d2)\n",
    "\n",
    "kennel.oldest_dog().bark()"
   ]
  },
  {
   "cell_type": "markdown",
   "id": "cc1f0d0a-ba4c-48fa-acec-1ce0e4b46054",
   "metadata": {},
   "source": [
    "# Critique"
   ]
  },
  {
   "cell_type": "code",
   "execution_count": null,
   "id": "ffbfb55c-ef8b-4844-9515-e13063b46781",
   "metadata": {},
   "outputs": [],
   "source": [
    "Correctness: Follows all requirements; methods work as intended.\n",
    "Complexity: Efficient (O(n)) for managing dog records.\n",
    "Robustness: Handles empty or invalid cases well.\n",
    "Readability: Clear, simple, and easy to follow.\n",
    "Faithfulness: Properly uses composition—Kennel has Dogs, not is a Dog."
   ]
  },
  {
   "cell_type": "markdown",
   "id": "599514dc-7a8d-4b83-85f5-1f9751b966c2",
   "metadata": {},
   "source": [
    "# Improved Code"
   ]
  },
  {
   "cell_type": "code",
   "execution_count": 32,
   "id": "5e077453-4d14-438c-b8c1-5c6f3b5a98f0",
   "metadata": {},
   "outputs": [
    {
     "name": "stdout",
     "output_type": "stream",
     "text": [
      "All dogs in the kennel:\n",
      "Max (Beagle, 5 years old)\n",
      "Bella (Labrador, 3 years old)\n",
      "Rocky (Beagle, 8 years old)\n",
      "\n",
      "Oldest dog:\n",
      "Rocky (Beagle, 8 years old)\n",
      "\n",
      "Beagle breed dogs:\n",
      "Max (Beagle, 5 years old)\n",
      "Rocky (Beagle, 8 years old)\n",
      "\n",
      "Removing Bella...\n",
      "Max (Beagle, 5 years old)\n",
      "Rocky (Beagle, 8 years old)\n"
     ]
    }
   ],
   "source": [
    "class Dog:\n",
    "# Represents an individual dog with basic attributes. \n",
    "    def __init__(self, name: str, age: int, breed: str):\n",
    "        self.name = name\n",
    "        self.age = age\n",
    "        self.breed = breed\n",
    "\n",
    "    def bark(self) -> None:\n",
    "        print(f\"{self.name} says: Woof!\")\n",
    "\n",
    "    def __str__(self):\n",
    "        return f\"{self.name} ({self.breed}, {self.age} years old)\"\n",
    "\n",
    "\n",
    "class Kennel:\n",
    "   # Manages a collection of Dog objects using composition.\n",
    "    def __init__(self):\n",
    "        self.dogs: list[Dog] = []\n",
    "\n",
    "    def add_dog(self, dog: Dog) -> None:\n",
    "        self.dogs.append(dog)\n",
    "\n",
    "    def remove_dog(self, name: str) -> None:\n",
    "        self.dogs = [d for d in self.dogs if d.name.lower() != name.lower()]\n",
    "\n",
    "    def oldest_dog(self) -> Dog | None:\n",
    "        if not self.dogs:\n",
    "            return None\n",
    "        return max(self.dogs, key=lambda d: d.age)\n",
    "    def find_by_breed(self, breed: str) -> list[Dog]:\n",
    "        return [d for d in self.dogs if d.breed.lower() == breed.lower()]\n",
    "\n",
    "    def __str__(self):\n",
    "        if not self.dogs:\n",
    "            return \"Kennel is empty.\"\n",
    "        return \"\\n\".join(str(dog) for dog in self.dogs)\n",
    "\n",
    "kennel = Kennel()\n",
    "kennel.add_dog(Dog(\"Max\", 5, \"Beagle\"))\n",
    "kennel.add_dog(Dog(\"Bella\", 3, \"Labrador\"))\n",
    "kennel.add_dog(Dog(\"Rocky\", 8, \"Beagle\"))\n",
    "\n",
    "print(\"All dogs in the kennel:\")\n",
    "print(kennel)\n",
    "\n",
    "print(\"\\nOldest dog:\")\n",
    "oldest = kennel.oldest_dog()\n",
    "print(oldest if oldest else \"No dogs available.\")\n",
    "\n",
    "print(\"\\nBeagle breed dogs:\")\n",
    "for d in kennel.find_by_breed(\"Beagle\"):\n",
    "    print(d)\n",
    "\n",
    "print(\"\\nRemoving Bella...\")\n",
    "kennel.remove_dog(\"Bella\")\n",
    "print(kennel)"
   ]
  },
  {
   "cell_type": "markdown",
   "id": "e7c1d2cb-3e56-4082-84c4-c42813e0a877",
   "metadata": {},
   "source": [
    "# Q9. Modules and Packages: Helpers"
   ]
  },
  {
   "cell_type": "code",
   "execution_count": null,
   "id": "c88d825c-4668-417d-87d3-f8cec1bedf43",
   "metadata": {},
   "outputs": [],
   "source": [
    "Create a package helpers/ with modules\n",
    "string_utils.py (function shout(s) uppercases) and math_utils.py (function area(l,w)).\n",
    "Then a main.py that imports with both import ... as ... and from ...\n",
    "import .... Explain namespace collisions and why aliases help. Anchor concepts: modules, packages, import variations, namespaces. Reference: :contentReference[oaicite:15]index=15\n"
   ]
  },
  {
   "cell_type": "markdown",
   "id": "e6d26751-6af0-4a03-bf18-1ca7f31e1cd0",
   "metadata": {},
   "source": [
    "# Prompt"
   ]
  },
  {
   "cell_type": "code",
   "execution_count": null,
   "id": "d6b43ddd-97af-4ed4-821c-d3c9be0f9643",
   "metadata": {},
   "outputs": [],
   "source": [
    "Create a package named helpers/ that contains two modules:\n",
    "\n",
    "string_utils.py — defines a function shout(s) that returns the uppercase version of a string.\n",
    "\n",
    "math_utils.py — defines a function area(l, w) that returns the product of length and width.\n",
    "\n",
    "Then, create a main.py file that imports both modules using two styles:\n",
    "\n",
    "import ... as ... (aliasing)\n",
    "\n",
    "from ... import ... (direct import)\n",
    "\n",
    "Explain how namespace collisions can occur when using from ... import ..., and why using aliases with import ... as ... helps avoid confusion and maintain readability."
   ]
  },
  {
   "cell_type": "markdown",
   "id": "4b5068b8-277c-4b0c-a7dc-039b10119297",
   "metadata": {},
   "source": [
    "# ChatGPT Code"
   ]
  },
  {
   "cell_type": "code",
   "execution_count": 37,
   "id": "6dad1915-a40c-46c8-a634-e0641a1985d8",
   "metadata": {},
   "outputs": [
    {
     "name": "stdout",
     "output_type": "stream",
     "text": [
      "Using alias imports:\n",
      "HELLO WORLD\n",
      "50\n",
      "\n",
      "Using direct imports:\n",
      "PYTHON MODULES\n",
      "24\n"
     ]
    }
   ],
   "source": [
    "# Import using alias\n",
    "import helpers.string_utils as su\n",
    "import helpers.math_utils as mu\n",
    "\n",
    "# Import specific functions\n",
    "from helpers.string_utils import shout\n",
    "from helpers.math_utils import area\n",
    "\n",
    "# Using alias imports\n",
    "print(\"Using alias imports:\")\n",
    "print(su.shout(\"hello world\"))\n",
    "print(mu.area(5, 10))\n",
    "\n",
    "# Using direct imports\n",
    "print(\"\\nUsing direct imports:\")\n",
    "print(shout(\"python modules\"))\n",
    "print(area(4, 6))\n"
   ]
  },
  {
   "cell_type": "markdown",
   "id": "af4c9240-d6e1-46c5-8b38-4c6488b559ed",
   "metadata": {},
   "source": [
    "# Critique"
   ]
  },
  {
   "cell_type": "code",
   "execution_count": null,
   "id": "7e4342ca-4e4b-497f-8dde-7a8effaab09a",
   "metadata": {},
   "outputs": [],
   "source": [
    "Correctness: The package and modules are correctly structured. Each module implements its function as specified, and the imports in main.py demonstrate both aliasing and direct import styles.\n",
    "\n",
    "Complexity: Simple and efficient — code runs quickly and demonstrates modular organization without redundancy.\n",
    "\n",
    "Robustness: Works for valid string and numeric inputs. Could include input validation for robustness (e.g., checking if l and w are numbers).\n",
    "\n",
    "Readability: The code is clear and well-organized, with intuitive naming and comments explaining each section.\n",
    "\n",
    "Faithfulness: Fully satisfies the prompt — demonstrates how modules and namespaces work, and why aliases prevent name collisions when multiple functions share the same name."
   ]
  },
  {
   "cell_type": "markdown",
   "id": "fa982451-6492-4657-a794-eaa6e98d140d",
   "metadata": {},
   "source": [
    "# Improved Code"
   ]
  },
  {
   "cell_type": "code",
   "execution_count": 39,
   "id": "99c0d21c-95a6-40c1-9882-34e2fa739fb5",
   "metadata": {},
   "outputs": [
    {
     "name": "stdin",
     "output_type": "stream",
     "text": [
      "Enter a message:  Hi, Yvone\n"
     ]
    },
    {
     "name": "stdout",
     "output_type": "stream",
     "text": [
      "Shouted message: HI, YVONE\n"
     ]
    },
    {
     "name": "stdin",
     "output_type": "stream",
     "text": [
      "Enter the length:  5\n",
      "Enter the width:  3\n"
     ]
    },
    {
     "name": "stdout",
     "output_type": "stream",
     "text": [
      "Area of rectangle (5.0x3.0): 15.0\n"
     ]
    }
   ],
   "source": [
    "import sys\n",
    "import os\n",
    "\n",
    "# Import from helpers using two different styles\n",
    "import helpers.string_utils as su\n",
    "from helpers.math_utils import area\n",
    "\n",
    "def main():\n",
    "    \"\"\"Demonstrate the use of helper modules for string and math utilities.\"\"\"\n",
    "\n",
    "    # Demonstrate shout() function\n",
    "    text = input(\"Enter a message: \")\n",
    "    print(\"Shouted message:\", su.shout(text))\n",
    "\n",
    "    # Demonstrate area() function\n",
    "    try:\n",
    "        length = float(input(\"Enter the length: \"))\n",
    "        width = float(input(\"Enter the width: \"))\n",
    "        print(f\"Area of rectangle ({length}x{width}): {area(length, width)}\")\n",
    "    except ValueError:\n",
    "        print(\"Error: Please enter valid numeric values for length and width.\")\n",
    "\n",
    "if __name__ == \"__main__\":\n",
    "    main()\n"
   ]
  },
  {
   "cell_type": "markdown",
   "id": "e0985fea-7ab5-410a-a8c8-babcebd9e102",
   "metadata": {},
   "source": [
    "# Q10. Robust Temperature Converter (Functions + Exceptions)"
   ]
  },
  {
   "cell_type": "code",
   "execution_count": null,
   "id": "64e7a071-9f78-48e6-9a08-88668ec88838",
   "metadata": {},
   "outputs": [],
   "source": [
    "Write two functions: cel_to_far(c) and far_to_cel(f) with type hints and docstrings. Build a\n",
    "CLI that asks the user which direction to convert and validates input (gracefully\n",
    "handles bad entries). Include unit tests (doctest or simple asserts) covering typical\n",
    "3\n",
    "and edge cases (e.g., -40). Anchor concepts: writing functions, control flow, input\n",
    "handling, testing.\n"
   ]
  },
  {
   "cell_type": "markdown",
   "id": "46a0d654-8074-45dd-aec1-0a54f6021706",
   "metadata": {},
   "source": [
    "# Prompt"
   ]
  },
  {
   "cell_type": "code",
   "execution_count": null,
   "id": "cc462200-cfa5-4fca-8a86-33adcd13f760",
   "metadata": {},
   "outputs": [],
   "source": [
    "Write a Python program that defines two functions: cel_to_far(c) and far_to_cel(f) with type hints and docstrings. Create a command-line interface that asks the user whether they want to convert Celsius to Fahrenheit or Fahrenheit to Celsius. Validate user input and handle invalid entries using try/except to prevent crashes. The program should print the converted result clearly. Include simple test cases that check normal and edge values, such as -40 (where both scales are equal)."
   ]
  },
  {
   "cell_type": "markdown",
   "id": "463b1d87-91cb-40e4-b93f-afb0615add58",
   "metadata": {},
   "source": [
    "# ChatGPT Code"
   ]
  },
  {
   "cell_type": "code",
   "execution_count": 40,
   "id": "c35fbd3f-a5a2-4fb9-8e46-710317de979f",
   "metadata": {},
   "outputs": [
    {
     "name": "stdout",
     "output_type": "stream",
     "text": [
      "Temperature Converter\n"
     ]
    },
    {
     "name": "stdin",
     "output_type": "stream",
     "text": [
      "Convert from (C)elsius or (F)ahrenheit?  37\n"
     ]
    },
    {
     "name": "stdout",
     "output_type": "stream",
     "text": [
      "Invalid choice. Please enter 'C' or 'F'.\n",
      "-40.0\n",
      "-40.0\n"
     ]
    }
   ],
   "source": [
    "def cel_to_far(c: float) -> float:\n",
    "    \"\"\"Convert Celsius to Fahrenheit.\"\"\"\n",
    "    return (c * 9/5) + 32\n",
    "\n",
    "def far_to_cel(f: float) -> float:\n",
    "    \"\"\"Convert Fahrenheit to Celsius.\"\"\"\n",
    "    return (f - 32) * 5/9\n",
    "\n",
    "def main():\n",
    "    print(\"Temperature Converter\")\n",
    "    choice = input(\"Convert from (C)elsius or (F)ahrenheit? \").strip().lower()\n",
    "\n",
    "    try:\n",
    "        if choice == 'c':\n",
    "            c = float(input(\"Enter temperature in Celsius: \"))\n",
    "            print(f\"{c}°C = {cel_to_far(c):.2f}°F\")\n",
    "        elif choice == 'f':\n",
    "            f = float(input(\"Enter temperature in Fahrenheit: \"))\n",
    "            print(f\"{f}°F = {far_to_cel(f):.2f}°C\")\n",
    "        else:\n",
    "            print(\"Invalid choice. Please enter 'C' or 'F'.\")\n",
    "    except ValueError:\n",
    "        print(\"Error: Please enter a valid numeric temperature.\")\n",
    "\n",
    "if __name__ == \"__main__\":\n",
    "    main()\n",
    "\n",
    "# Simple tests\n",
    "print(cel_to_far(-40))  # Expect -40\n",
    "print(far_to_cel(-40))  # Expect -40\n"
   ]
  },
  {
   "cell_type": "markdown",
   "id": "8c539ae3-64d7-4100-aa0c-eb3c1074b6f2",
   "metadata": {},
   "source": [
    "# Critique"
   ]
  },
  {
   "cell_type": "code",
   "execution_count": null,
   "id": "6350dc17-e3d7-4a5c-8493-3b337c8ad66f",
   "metadata": {},
   "outputs": [],
   "source": [
    "Correctness:\n",
    "The functions accurately perform the Celsius–Fahrenheit conversions using the correct formulas. Input handling and conversion direction work as intended.\n",
    "Complexity:\n",
    "The operations are constant time (O(1)) for both functions since they involve only basic arithmetic.\n",
    "Robustness:\n",
    "It includes exception handling for invalid inputs and prevents program crashes. However, more explicit user prompts could improve usability (e.g., re-asking after invalid input).\n",
    "Readability:\n",
    "The code is clear, with good naming, consistent indentation, and helpful docstrings. Adding comments or separating test cases could improve clarity further.\n",
    "Faithfulness:\n",
    "The code follows lecture concepts on function creation, control flow, and exception handling. It demonstrates graceful error handling and includes example test cases."
   ]
  },
  {
   "cell_type": "markdown",
   "id": "506bd04d-967d-421f-ac48-58d083332ad7",
   "metadata": {},
   "source": [
    "# Improved Code"
   ]
  },
  {
   "cell_type": "code",
   "execution_count": 42,
   "id": "ca162b95-a146-46bf-bc89-99d8dc6a8056",
   "metadata": {},
   "outputs": [
    {
     "name": "stdout",
     "output_type": "stream",
     "text": [
      "Running quick tests...\n",
      "C to F (-40°C): -40.0\n",
      "F to C (-40°F): -40.0\n",
      "C to F (0°C): 32.0\n",
      "F to C (212°F): 100.0\n",
      "=== Temperature Converter ===\n"
     ]
    },
    {
     "name": "stdin",
     "output_type": "stream",
     "text": [
      "Convert from (C)elsius or (F)ahrenheit? (Q to quit):  90\n"
     ]
    },
    {
     "name": "stdout",
     "output_type": "stream",
     "text": [
      "Invalid choice. Please enter 'C', 'F', or 'Q'.\n",
      "\n"
     ]
    },
    {
     "name": "stdin",
     "output_type": "stream",
     "text": [
      "Convert from (C)elsius or (F)ahrenheit? (Q to quit):  C\n",
      "Enter temperature in Celsius:  90\n"
     ]
    },
    {
     "name": "stdout",
     "output_type": "stream",
     "text": [
      "90.00°C = 194.00°F\n",
      "\n"
     ]
    },
    {
     "name": "stdin",
     "output_type": "stream",
     "text": [
      "Convert from (C)elsius or (F)ahrenheit? (Q to quit):  Q\n"
     ]
    },
    {
     "name": "stdout",
     "output_type": "stream",
     "text": [
      "Exiting the converter.\n"
     ]
    }
   ],
   "source": [
    "def cel_to_far(c: float) -> float:\n",
    "    return (c * 9/5) + 32\n",
    "\n",
    "def far_to_cel(f: float) -> float:\n",
    "    return (f - 32) * 5/9\n",
    "\n",
    "def main():\n",
    "    print(\"=== Temperature Converter ===\")\n",
    "\n",
    "    while True:\n",
    "        choice = input(\"Convert from (C)elsius or (F)ahrenheit? (Q to quit): \").strip().lower()\n",
    "\n",
    "        if choice == 'q':\n",
    "            print(\"Exiting the converter.\")\n",
    "            break\n",
    "\n",
    "        try:\n",
    "            if choice == 'c':\n",
    "                c = float(input(\"Enter temperature in Celsius: \"))\n",
    "                print(f\"{c:.2f}°C = {cel_to_far(c):.2f}°F\\n\")\n",
    "            elif choice == 'f':\n",
    "                f = float(input(\"Enter temperature in Fahrenheit: \"))\n",
    "                print(f\"{f:.2f}°F = {far_to_cel(f):.2f}°C\\n\")\n",
    "            else:\n",
    "                print(\"Invalid choice. Please enter 'C', 'F', or 'Q'.\\n\")\n",
    "        except ValueError:\n",
    "            print(\"Error: Please enter a valid numeric temperature.\\n\")\n",
    "\n",
    "print(\"Running quick tests...\")\n",
    "print(\"C to F (-40°C):\", cel_to_far(-40))  # Expect -40\n",
    "print(\"F to C (-40°F):\", far_to_cel(-40))  # Expect -40\n",
    "print(\"C to F (0°C):\", cel_to_far(0))      # Expect 32\n",
    "print(\"F to C (212°F):\", far_to_cel(212))  # Expect 100\n",
    "\n",
    "if __name__ == \"__main__\":\n",
    "    main()\n"
   ]
  },
  {
   "cell_type": "code",
   "execution_count": null,
   "id": "a834b646-10fc-4d01-9544-f4aa0ebf23c9",
   "metadata": {},
   "outputs": [],
   "source": []
  }
 ],
 "metadata": {
  "kernelspec": {
   "display_name": "Python [conda env:ANCONDA]",
   "language": "python",
   "name": "conda-env-ANCONDA-py"
  },
  "language_info": {
   "codemirror_mode": {
    "name": "ipython",
    "version": 3
   },
   "file_extension": ".py",
   "mimetype": "text/x-python",
   "name": "python",
   "nbconvert_exporter": "python",
   "pygments_lexer": "ipython3",
   "version": "3.13.5"
  }
 },
 "nbformat": 4,
 "nbformat_minor": 5
}
