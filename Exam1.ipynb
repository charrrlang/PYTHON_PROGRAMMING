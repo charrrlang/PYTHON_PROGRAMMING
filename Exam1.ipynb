{
 "cells": [
  {
   "cell_type": "markdown",
   "id": "cc87d8b1-f982-47bb-ae07-21cd1eace1fc",
   "metadata": {},
   "source": [
    "# 1st Long Exam : September 09, 2025"
   ]
  },
  {
   "cell_type": "markdown",
   "id": "867ae5e5-81c8-4c19-af38-b5d47ccabcf0",
   "metadata": {},
   "source": [
    "# Yvone L. Bardon - 23783608"
   ]
  },
  {
   "cell_type": "markdown",
   "id": "63614ed0-15ce-43a8-ae25-ea1b1a2c56f0",
   "metadata": {},
   "source": [
    "# Question 1"
   ]
  },
  {
   "cell_type": "code",
   "execution_count": null,
   "id": "5e35e0d2-c8d2-4683-a841-aabcfc8e4dec",
   "metadata": {},
   "outputs": [],
   "source": [
    "name = input(\"Enter name: \")\n",
    "print(\"Hello\", name)\n"
   ]
  }
 ],
 "metadata": {
  "kernelspec": {
   "display_name": "Python 3 (ipykernel)",
   "language": "python",
   "name": "python3"
  },
  "language_info": {
   "codemirror_mode": {
    "name": "ipython",
    "version": 3
   },
   "file_extension": ".py",
   "mimetype": "text/x-python",
   "name": "python",
   "nbconvert_exporter": "python",
   "pygments_lexer": "ipython3",
   "version": "3.13.5"
  }
 },
 "nbformat": 4,
 "nbformat_minor": 5
}
