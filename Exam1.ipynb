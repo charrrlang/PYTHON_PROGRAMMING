{
 "cells": [
  {
   "cell_type": "markdown",
   "id": "cc87d8b1-f982-47bb-ae07-21cd1eace1fc",
   "metadata": {},
   "source": [
    "# 1st Long Exam : September 09, 2025"
   ]
  },
  {
   "cell_type": "markdown",
   "id": "867ae5e5-81c8-4c19-af38-b5d47ccabcf0",
   "metadata": {},
   "source": [
    "# Yvone L. Bardon - 23783608"
   ]
  },
  {
   "cell_type": "markdown",
   "id": "63614ed0-15ce-43a8-ae25-ea1b1a2c56f0",
   "metadata": {},
   "source": [
    "# Question 1"
   ]
  },
  {
   "cell_type": "code",
   "execution_count": 2,
   "id": "5e35e0d2-c8d2-4683-a841-aabcfc8e4dec",
   "metadata": {},
   "outputs": [
    {
     "name": "stdin",
     "output_type": "stream",
     "text": [
      "Enter name:  Yvone\n"
     ]
    },
    {
     "name": "stdout",
     "output_type": "stream",
     "text": [
      "Hello Yvone\n"
     ]
    }
   ],
   "source": [
    "name = input(\"Enter name: \")\n",
    "print(\"Hello\", name)\n"
   ]
  },
  {
   "cell_type": "markdown",
   "id": "468994a7-da6e-4df1-8b17-7fa22d682737",
   "metadata": {},
   "source": [
    "# Question 2"
   ]
  },
  {
   "cell_type": "code",
   "execution_count": 3,
   "id": "14308a77-c4a4-4cc5-bab9-07ade45ae4e5",
   "metadata": {},
   "outputs": [
    {
     "name": "stdin",
     "output_type": "stream",
     "text": [
      "Enter a psotive integer:  5\n"
     ]
    },
    {
     "name": "stdout",
     "output_type": "stream",
     "text": [
      "The sum form 1 to  5 is 30\n"
     ]
    }
   ],
   "source": [
    "n = int(input(\"Enter a psotive integer: \"))\n",
    "s = n * (n + 1)\n",
    "print(\"The sum form 1 to \", n , \"is\" , s)"
   ]
  },
  {
   "cell_type": "markdown",
   "id": "55a8da01-c1c3-47b0-a94d-6579670e877e",
   "metadata": {},
   "source": [
    "# Question 3"
   ]
  },
  {
   "cell_type": "code",
   "execution_count": 4,
   "id": "1d6e745e-01d3-42a5-8e59-e3d3a1b10ae5",
   "metadata": {},
   "outputs": [
    {
     "name": "stdin",
     "output_type": "stream",
     "text": [
      "Enter letter:  -1\n"
     ]
    },
    {
     "name": "stdout",
     "output_type": "stream",
     "text": [
      "The letter is outside of the Alphabet\n"
     ]
    }
   ],
   "source": [
    "letter = input(\"Enter letter: \")\n",
    "letter.lower()\n",
    "\n",
    "if letter == \"a,e,i,o,u\":\n",
    "    print(\"The entered letter is vowel\")\n",
    "elif letter == \"y\":\n",
    "    print(\"Sometimes y is a vowel, and sometimes y is a consonant\")\n",
    "elif letter == \"b,c,d,f,g,h,j,k,l,m,n,p,q,r,s,t,v,w,x,z\":\n",
    "    print(\"The entered letter is consonant\")\n",
    "else:\n",
    "    print(\"The letter is outside of the Alphabet\")"
   ]
  },
  {
   "cell_type": "markdown",
   "id": "5576aeed-ce44-4e30-b527-942a013f8a86",
   "metadata": {},
   "source": [
    "# Question 4"
   ]
  },
  {
   "cell_type": "markdown",
   "id": "55e62d3f-aea3-40d1-b918-713b85ce8e38",
   "metadata": {},
   "source": [
    "# Question 5"
   ]
  },
  {
   "cell_type": "code",
   "execution_count": 5,
   "id": "429c78d7-5636-47e6-b2f5-f9c5eef4301f",
   "metadata": {},
   "outputs": [
    {
     "name": "stdin",
     "output_type": "stream",
     "text": [
      "Enter length one 9.9\n",
      "Enter length two 5\n"
     ]
    },
    {
     "name": "stdout",
     "output_type": "stream",
     "text": [
      "The length of the shorter side of a right triangle are 14.9\n",
      "The hypotenuse of the triangle is 61.505\n"
     ]
    }
   ],
   "source": [
    "lengthOne = float(input(\"Enter length one\"))\n",
    "lengthTwo = float(input(\"Enter length two\"))\n",
    "\n",
    "def hypotenuse(lengthOne, lengthTwo):\n",
    "    hypotenuse = (lengthOne * lengthOne + lengthTwo * lengthTwo) * .5\n",
    "    return hypotenuse;\n",
    "\n",
    "print(\"The length of the shorter side of a right triangle are\", lengthOne + \" \" + lengthTwo)\n",
    "print(\"The hypotenuse of the triangle is\" , hypotenuse(lengthOne, lengthTwo))\n"
   ]
  },
  {
   "cell_type": "code",
   "execution_count": null,
   "id": "5dade5f7-6513-4a3f-a88a-0a80370e74af",
   "metadata": {},
   "outputs": [],
   "source": []
  }
 ],
 "metadata": {
  "kernelspec": {
   "display_name": "Python 3 (ipykernel)",
   "language": "python",
   "name": "python3"
  },
  "language_info": {
   "codemirror_mode": {
    "name": "ipython",
    "version": 3
   },
   "file_extension": ".py",
   "mimetype": "text/x-python",
   "name": "python",
   "nbconvert_exporter": "python",
   "pygments_lexer": "ipython3",
   "version": "3.13.5"
  }
 },
 "nbformat": 4,
 "nbformat_minor": 5
}
