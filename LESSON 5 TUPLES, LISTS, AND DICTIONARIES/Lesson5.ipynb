{
 "cells": [
  {
   "cell_type": "markdown",
   "id": "497e1570-14f1-42e1-b187-db594b38fdaa",
   "metadata": {},
   "source": [
    "# Review Question 1"
   ]
  },
  {
   "cell_type": "code",
   "execution_count": 6,
   "id": "53991097-598d-4711-bf08-e9597f02f739",
   "metadata": {},
   "outputs": [
    {
     "name": "stdout",
     "output_type": "stream",
     "text": [
      "('FIRST', 'SECOND', 'THIRD')\n"
     ]
    }
   ],
   "source": [
    "# 1 CREATE ATUPLE LITERAL NAMED CARDINAL_NUMBERS THAT HOLDS THE STRINGS \"FIRST\",\"SECOND\" AND \"THIRD\", IN THAT ORDER.\n",
    "\n",
    "cardinal_numbers = (\"FIRST\", \"SECOND\", \"THIRD\")\n",
    "print(cardinal_numbers)"
   ]
  },
  {
   "cell_type": "code",
   "execution_count": 7,
   "id": "10c4c132-6b56-4a24-bcbd-cfd73a96d9d6",
   "metadata": {},
   "outputs": [
    {
     "name": "stdout",
     "output_type": "stream",
     "text": [
      "SECOND\n"
     ]
    }
   ],
   "source": [
    "# 2 USING INDEX NOTATION AND PRINT(), DISPLAY THE STRING AT INDEX 1 IN CARDINAL_NUMBERS.\n",
    "cardinal_numbers = (\"FIRST\", \"SECOND\", \"THIRD\") \n",
    "print(cardinal_numbers[1])\n"
   ]
  },
  {
   "cell_type": "code",
   "execution_count": 72,
   "id": "a4936f91-4023-42d2-a8dc-3632510f2f62",
   "metadata": {},
   "outputs": [
    {
     "name": "stdout",
     "output_type": "stream",
     "text": [
      "FIRST\n",
      "SECOND\n",
      "THIRD\n"
     ]
    }
   ],
   "source": [
    "# 3 UNPACK THE VALUES IN CARDINAL_NUMBERS INTO THREE NEW STRINGS NAMED POSITION1,\n",
    "# POSITION2 AND POSITION3 IN A SINGLE LINE OF CODE, THEN PRINT EACH VALUE ON A SEPARATE LINE.\n",
    "\n",
    "cardinal_numbers = (\"FIRST\", \"SECOND\", \"THIRD\")\n",
    "\n",
    "position1, position2, position3 = cardinal_numbers\n",
    "\n",
    "print(position1)\n",
    "print(position2)\n",
    "print(position3)\n"
   ]
  },
  {
   "cell_type": "code",
   "execution_count": 73,
   "id": "4e59b83a-1f45-4fa0-90d2-4799cfa3654f",
   "metadata": {},
   "outputs": [
    {
     "name": "stdout",
     "output_type": "stream",
     "text": [
      "('Y', 'v', 'o', 'n', 'e')\n"
     ]
    }
   ],
   "source": [
    "# 4 CREATE ATUPLE CALLED MY_NAME THAT CONTAINS THE LETTERS OF YOUR NAME BY USING TUPLE() AND A STRING LITERAL.\n",
    "my_name = tuple(\"Yvone\")\n",
    "print(my_name)\n"
   ]
  },
  {
   "cell_type": "code",
   "execution_count": 66,
   "id": "8fb62755-dad8-475f-a6d4-bc61ceb056cd",
   "metadata": {},
   "outputs": [
    {
     "name": "stdout",
     "output_type": "stream",
     "text": [
      "X is not in my_name\n"
     ]
    }
   ],
   "source": [
    "#. 5 CHECK WHETHER OR NOT THE CHARACTER \"X\" IS IN MY_NAME USING THE IN KEYWORD\n",
    "\n",
    "my_name = tuple(\"Yone\")\n",
    "\n",
    "if \"X\" in my_name:\n",
    "    print(\"X is in my_name\")\n",
    "else:\n",
    "    print(\"X is not in my_name\")\n"
   ]
  },
  {
   "cell_type": "code",
   "execution_count": 65,
   "id": "518c5d1a-dbf8-4b70-944d-3459700982e5",
   "metadata": {},
   "outputs": [
    {
     "name": "stdout",
     "output_type": "stream",
     "text": [
      "('v', 'o', 'n', 'e', ' ', 'L', 'a', 'b', 'i', 'd', ' ', 'B', 'a', 'r', 'd', 'o', 'n')\n"
     ]
    }
   ],
   "source": [
    "# 6 CREATEANEWTUPLECONTAININGALLBUTTHEFIRSTLETTER IN MY_NAMEUSING SLICING NOTATION.\n",
    "\n",
    "my_name = tuple(\"Yvone Labid Bardon\")\n",
    "\n",
    "new_tuple = my_name[1:]\n",
    "\n",
    "print(new_tuple)\n"
   ]
  },
  {
   "cell_type": "markdown",
   "id": "f3d953d1-0012-4c2c-9109-1f663742bec5",
   "metadata": {},
   "source": [
    "# Review Question 2"
   ]
  },
  {
   "cell_type": "code",
   "execution_count": 64,
   "id": "e3e58d91-f41e-4366-88f0-28b427860f06",
   "metadata": {},
   "outputs": [
    {
     "name": "stdout",
     "output_type": "stream",
     "text": [
      "['RICE', 'BEANS']\n"
     ]
    }
   ],
   "source": [
    "# 1 CREATE A LIST NAMED FOOD WITH TWO ELEMENTS \"RICE\" AND \"BEANS\"\n",
    "food = [\"RICE\", \"BEANS\"]\n",
    "print(food)"
   ]
  },
  {
   "cell_type": "code",
   "execution_count": 63,
   "id": "be2f9317-1ccb-44fc-878f-de8b2efcc300",
   "metadata": {},
   "outputs": [
    {
     "name": "stdout",
     "output_type": "stream",
     "text": [
      "['RICE', 'BEANS', 'BROCCOLI']\n"
     ]
    }
   ],
   "source": [
    "# 2 APPENDTHE STRING \"BROCCOLI\" TO FOOD USING .APPEND()\n",
    "food = [\"RICE\", \"BEANS\"]\n",
    "food.append(\"BROCCOLI\")\n",
    "\n",
    "print(food)\n"
   ]
  },
  {
   "cell_type": "code",
   "execution_count": 62,
   "id": "85d735c0-de29-40dc-8383-350202aa7c8a",
   "metadata": {},
   "outputs": [
    {
     "name": "stdout",
     "output_type": "stream",
     "text": [
      "['RICE', 'BEANS', 'BROCCOLI', 'BREAD', 'PIZZA']\n"
     ]
    }
   ],
   "source": [
    "# 3 ADDTHESTRING \"BREAD\" AND \"PIZZA\" TO \"FOOD\" USING .EXTEND().\n",
    "food = [\"RICE\", \"BEANS\", \"BROCCOLI\"]\n",
    "food.extend([\"BREAD\", \"PIZZA\"])\n",
    "\n",
    "print(food)\n"
   ]
  },
  {
   "cell_type": "code",
   "execution_count": 61,
   "id": "3341d576-ebc9-4d23-82a1-18ecf8299d0d",
   "metadata": {},
   "outputs": [
    {
     "name": "stdout",
     "output_type": "stream",
     "text": [
      "['RICE', 'BEANS']\n"
     ]
    }
   ],
   "source": [
    "# 4 PRINT THE FIRST TWO ITEMS IN THE FOOD LIST USING PRINT() AND SLICING NOTATION.\n",
    "food = [\"RICE\", \"BEANS\", \"BROCCOLI\", \"BREAD\", \"PIZZA\"]\n",
    "\n",
    "print(food[:2])\n"
   ]
  },
  {
   "cell_type": "code",
   "execution_count": 60,
   "id": "cc5bb746-9081-453b-9425-22bc1c4f3a00",
   "metadata": {},
   "outputs": [
    {
     "name": "stdout",
     "output_type": "stream",
     "text": [
      "PIZZA\n"
     ]
    }
   ],
   "source": [
    "# 5 PRINT THE LAST ITEM IN FOOD USING PRINT() AND INDEX NOTATION.\n",
    "food = [\"RICE\", \"BEANS\", \"BROCCOLI\", \"BREAD\", \"PIZZA\"]\n",
    "\n",
    "print(food[-1])\n"
   ]
  },
  {
   "cell_type": "code",
   "execution_count": 59,
   "id": "b7a51e44-4377-4a9d-8958-1f5506e71131",
   "metadata": {},
   "outputs": [
    {
     "name": "stdout",
     "output_type": "stream",
     "text": [
      "['EGGS', 'FRUIT', 'ORANGE JUICE']\n"
     ]
    }
   ],
   "source": [
    "# 6 CREATE A LIST CALLED BREAKFAST FROM THE STRING \"EGGS, FRUIT, ORANGE JUICE\" USINGTHE STRING .SPLIT() METHOD\n",
    "breakfast = \"EGGS, FRUIT, ORANGE JUICE\".split(\", \")\n",
    "\n",
    "print(breakfast)\n"
   ]
  },
  {
   "cell_type": "code",
   "execution_count": 58,
   "id": "ad96bbe3-ba43-4030-9009-d420086baf90",
   "metadata": {},
   "outputs": [
    {
     "name": "stdout",
     "output_type": "stream",
     "text": [
      "3\n"
     ]
    }
   ],
   "source": [
    "# 7 VERIFY THAT BREAKFAST HAS THREE ITEMS USING LEN()\n",
    "breakfast = [\"EGGS\", \"FRUIT\", \"ORANGE JUICE\"]\n",
    "\n",
    "print(len(breakfast))\n"
   ]
  },
  {
   "cell_type": "code",
   "execution_count": 57,
   "id": "9733c94e-e893-41c6-aac0-e1b3f867b0c9",
   "metadata": {},
   "outputs": [
    {
     "name": "stdout",
     "output_type": "stream",
     "text": [
      "[4, 5, 12]\n"
     ]
    }
   ],
   "source": [
    "#. 8 CREATE A NEW LIST CALLED LENGTHS USING A LIST COMPREHENSION THAT CONTAINS\n",
    "# THELENGTHS OF EACH STRING IN THE BREAKFAST LIST.\n",
    "\n",
    "breakfast = [\"EGGS\", \"FRUIT\", \"ORANGE JUICE\"]\n",
    "lengths = [len(item) for item in breakfast]\n",
    "\n",
    "print(lengths)\n"
   ]
  },
  {
   "cell_type": "markdown",
   "id": "fe856aad-0c4c-4faa-bc7f-353088e4e40b",
   "metadata": {},
   "source": [
    "# Review Question 3"
   ]
  },
  {
   "cell_type": "code",
   "execution_count": 74,
   "id": "2bcda0e0-55f9-4250-9f1b-a634c995984b",
   "metadata": {},
   "outputs": [
    {
     "name": "stdout",
     "output_type": "stream",
     "text": [
      "((1, 2), (3, 4))\n"
     ]
    }
   ],
   "source": [
    "# 1 CREATE A TUPLE DATA WITH TWO VALUES. THE FIRST VALUE SHOULD BE THE\n",
    "# TUPLE (1, 2) AND THE SECOND VALUE SHOULD BE THE TUPLE (3, 4).\n",
    "\n",
    "data = ((1, 2), (3, 4))\n",
    "print(data)\n",
    "\n"
   ]
  },
  {
   "cell_type": "code",
   "execution_count": 82,
   "id": "8edc4bde-2fb5-4f59-afad-d9ef4910dee9",
   "metadata": {},
   "outputs": [
    {
     "name": "stdout",
     "output_type": "stream",
     "text": [
      "Row = 1 sum = 3\n",
      "Row = 2 sum = 7\n"
     ]
    }
   ],
   "source": [
    "# 2 WRITE A FOR LOOP THAT LOOPS OVER DATA AND PRINTS THE SUM OF EACH\n",
    "# NESTED TUPLE. THE OUTPUT SHOULD LOOK LIKE THIS:\n",
    "\n",
    "for n in range(len(data)):\n",
    "    sum=0\n",
    "    for value in data[n]:\n",
    "        sum += value\n",
    "    print(f\"Row = {n+1} sum = {sum}\")\n"
   ]
  },
  {
   "cell_type": "code",
   "execution_count": 78,
   "id": "2bdab7e3-6272-414d-944c-b0a0c4924f39",
   "metadata": {},
   "outputs": [
    {
     "name": "stdout",
     "output_type": "stream",
     "text": [
      "[1, 2, 3, 4, 5]\n"
     ]
    }
   ],
   "source": [
    "# 3  CREATE A COPY OF THE NUMBERS LIST USING THE [:] SLICING NOTATION.\n",
    "numbers = [1, 2, 3, 4, 5]\n",
    "\n",
    "numbers_copy = numbers[:]\n",
    "\n",
    "print(numbers_copy)\n",
    "\n"
   ]
  },
  {
   "cell_type": "code",
   "execution_count": 79,
   "id": "54142215-9216-4e1f-8d71-1206a7e15283",
   "metadata": {},
   "outputs": [
    {
     "name": "stdout",
     "output_type": "stream",
     "text": [
      "[1, 2, 5, 7, 9]\n"
     ]
    }
   ],
   "source": [
    "# 4  SORT THE NUMBERS LIST IN NUMERICAL ORDER USING THE .SORT() METHOD\n",
    "\n",
    "numbers = [5, 2, 9, 1, 7]\n",
    "\n",
    "numbers.sort()\n",
    "\n",
    "print(numbers)\n"
   ]
  },
  {
   "cell_type": "markdown",
   "id": "6cb533f5-aa5e-4f3f-b278-d49eaebe375d",
   "metadata": {},
   "source": [
    "# CHALLENGE"
   ]
  },
  {
   "cell_type": "code",
   "execution_count": 81,
   "id": "0199e154-7a7c-4b0c-b921-11a792303b07",
   "metadata": {},
   "outputs": [
    {
     "name": "stdout",
     "output_type": "stream",
     "text": [
      "[['California Institute of Technology', 2175, 37704], ['Harvard', 19627, 39849], ['Massachusetts Institute of Technology', 10566, 40732], ['Princeton', 7802, 37000], ['Rice', 5879, 35551], ['Stanford', 19535, 40569], ['Yale', 11701, 40500]]\n"
     ]
    }
   ],
   "source": [
    "universities = [\n",
    "    ['California Institute of Technology', 2175, 37704],\n",
    "    ['Harvard', 19627, 39849],\n",
    "    ['Massachusetts Institute of Technology', 10566, 40732],\n",
    "    ['Princeton', 7802, 37000],\n",
    "    ['Rice', 5879, 35551],\n",
    "    ['Stanford', 19535, 40569],\n",
    "    ['Yale', 11701, 40500]\n",
    "]\n",
    "\n",
    "print(universities)"
   ]
  },
  {
   "cell_type": "code",
   "execution_count": 83,
   "id": "6e235cdd-6cc9-4be7-be19-685377431ad8",
   "metadata": {},
   "outputs": [
    {
     "name": "stdout",
     "output_type": "stream",
     "text": [
      "Nouns: ['FOSSIL', 'HORSE', 'AARDVARK', 'JUDGE', 'CHEF', 'MANGO', 'EXTROVERT', 'GORILLA']\n",
      "Verbs: ['KICKS', 'JINGLES', 'BOUNCES', 'SLURPS', 'MEOWS', 'EXPLODES', 'CURDLES']\n",
      "Adjectives: ['FURRY', 'BALDING', 'INCREDULOUS', 'FRAGRANT', 'EXUBERANT', 'GLISTENING']\n",
      "Prepositions: ['AGAINST', 'AFTER', 'INTO', 'BENEATH', 'UPON', 'FOR', 'IN', 'LIKE', 'OVER', 'WITHIN']\n",
      "Adverbs: ['CURIOUSLY', 'FURIOUSLY', 'SENSUOUSLY', 'EXTRAVAGANTLY', 'TANTALIZINGLY']\n"
     ]
    }
   ],
   "source": [
    "# Nouns\n",
    "nouns = [\"FOSSIL\", \"HORSE\", \"AARDVARK\", \"JUDGE\", \"CHEF\", \"MANGO\", \"EXTROVERT\", \"GORILLA\"]\n",
    "# Verbs\n",
    "verbs = [\"KICKS\", \"JINGLES\", \"BOUNCES\", \"SLURPS\", \"MEOWS\", \"EXPLODES\", \"CURDLES\"]\n",
    "# Adjectives\n",
    "adjectives = [\"FURRY\", \"BALDING\", \"INCREDULOUS\", \"FRAGRANT\", \"EXUBERANT\", \"GLISTENING\"]\n",
    "# Prepositions\n",
    "prepositions = [\"AGAINST\", \"AFTER\", \"INTO\", \"BENEATH\", \"UPON\", \"FOR\", \"IN\", \"LIKE\", \"OVER\", \"WITHIN\"]\n",
    "# Adverbs\n",
    "adverbs = [\"CURIOUSLY\", \"FURIOUSLY\", \"SENSUOUSLY\", \"EXTRAVAGANTLY\", \"TANTALIZINGLY\"]\n",
    "\n",
    "print(\"Nouns:\", nouns)\n",
    "print(\"Verbs:\", verbs)\n",
    "print(\"Adjectives:\", adjectives)\n",
    "print(\"Prepositions:\", prepositions)\n",
    "print(\"Adverbs:\", adverbs)\n"
   ]
  },
  {
   "cell_type": "markdown",
   "id": "2af4c993-48d0-42b3-90fb-8213eac361ed",
   "metadata": {},
   "source": [
    "# Review Question 4"
   ]
  },
  {
   "cell_type": "code",
   "execution_count": 85,
   "id": "b92f3330-e3f8-4f4e-a6c9-956c15897943",
   "metadata": {},
   "outputs": [
    {
     "name": "stdout",
     "output_type": "stream",
     "text": [
      "{}\n"
     ]
    }
   ],
   "source": [
    "# 1 CREATE AN EMPTY DICTIONARY NAMED CAPTAINS\n",
    "captains = {}\n",
    "print(captains)\n"
   ]
  },
  {
   "cell_type": "code",
   "execution_count": 89,
   "id": "72f27f3e-c1c8-4910-8753-76632ea99714",
   "metadata": {},
   "outputs": [
    {
     "name": "stdout",
     "output_type": "stream",
     "text": [
      "'Enterprise' : 'Picard'\n",
      "'Voyager' : 'Janeway'\n",
      "'Defiant' : 'Sisco'\n"
     ]
    }
   ],
   "source": [
    "# 2. USING THE SQUARE BRACKET NOTATION, ENTER THE FOLLOWING DATA INTO THE DICTIONARY, ONE ITEM AT A TIME:\n",
    "captains = {}\n",
    "\n",
    "captains = {}\n",
    "captains[\"Enterprise\"] = \"Picard\"\n",
    "captains[\"Voyager\"] = \"Janeway\"\n",
    "captains[\"Defiant\"] = \"Sisco\"\n",
    "\n",
    "for n in captains:\n",
    "        print(f\"'{n}' : '{captains[n]}'\")\n"
   ]
  },
  {
   "cell_type": "code",
   "execution_count": 88,
   "id": "d68e476d-8d9f-41a2-b9cf-39964db736f0",
   "metadata": {},
   "outputs": [
    {
     "name": "stdout",
     "output_type": "stream",
     "text": [
      "'Enterprise' : 'Picard'\n",
      "'Voyager' : 'Janeway'\n",
      "'Defiant' : 'Sisko'\n",
      "'Discovery' : 'UNKNOWN'\n"
     ]
    }
   ],
   "source": [
    "# 3.  WRITE TWO IF STATEMENTS THAT CHECK IF \"ENTERPRISE\" AND \"DISCOVERY\" EXIST AS\n",
    "# KEYS IN THE DICTIONARY. SET THEIR VALUES TO \"UNKNOWN\" IF THE KEY DOES NOT EXIST\n",
    "\n",
    "if not (\"Enterprise\" in captains): captains[\"Eterprise\"] = \"Unknown\"\n",
    "if not (\"Discovery\" in captains): captains[\"Discovery\"] = \"Unknwon\"\n",
    "\n",
    "for n in captains:\n",
    "        print(f\"'{n}' : '{captains[n]}'\")\n",
    "    "
   ]
  },
  {
   "cell_type": "code",
   "execution_count": 5,
   "id": "50a462e5-b8c2-43f7-9c83-2b8f6198c62a",
   "metadata": {},
   "outputs": [
    {
     "name": "stdout",
     "output_type": "stream",
     "text": [
      "The captain of the Enterprise is Picard.\n",
      "The captain of the Voyager is Janeway.\n",
      "The captain of the Defiant is Sisko.\n",
      "The captain of the Discovery is UNKNOWN.\n"
     ]
    }
   ],
   "source": [
    "# 4 WRITE A FOR LOOP TO DISPLAY THE SHIP AND CAPTAIN NAMES CONTAINED IN THE\n",
    "# DICTIONARY. FOR EXAMPLE, THE OUTPUT SHOULD LOOK SOMETHING LIKE THIS:\n",
    "\n",
    "captains = {\n",
    "    \"Enterprise\": \"Picard\",\n",
    "    \"Voyager\": \"Janeway\",\n",
    "    \"Defiant\": \"Sisko\",\n",
    "    \"Discovery\": \"UNKNOWN\"\n",
    "}\n",
    "\n",
    "for ship, captain in captains.items():\n",
    "    print(f\"The captain of the {ship} is {captain}.\")\n"
   ]
  },
  {
   "cell_type": "markdown",
   "id": "fee96617-2885-4bc4-bfef-fcec6d29b8f2",
   "metadata": {},
   "source": [
    "# Review Question 5"
   ]
  },
  {
   "cell_type": "code",
   "execution_count": 11,
   "id": "319b463f-d8c5-49ed-9262-a536d45c99a9",
   "metadata": {},
   "outputs": [
    {
     "name": "stdout",
     "output_type": "stream",
     "text": [
      "The captain of the Enterprise is Picard.\n",
      "The captain of the Voyager is Janeway.\n",
      "The captain of the Defiant is Sisko.\n"
     ]
    }
   ],
   "source": [
    "# 1 DELETE \"DISCOVERY\" FROM THE DICTIONARY\n",
    "\n",
    "captains = {\n",
    "    \"Enterprise\": \"Picard\",\n",
    "    \"Voyager\": \"Janeway\",\n",
    "    \"Defiant\": \"Sisko\",\n",
    "    \"Discovery\": \"Unknown\"\n",
    "}\n",
    "\n",
    "del captains[\"Discovery\"]\n",
    "\n",
    "for ship, captain in captains.items():\n",
    "    print(f\"The captain of the {ship} is {captain}.\")\n",
    "\n",
    "\n"
   ]
  },
  {
   "cell_type": "code",
   "execution_count": 12,
   "id": "a9f677bd-dbc1-4841-b31f-2ebba13ed69a",
   "metadata": {},
   "outputs": [
    {
     "name": "stdout",
     "output_type": "stream",
     "text": [
      "The captain of the Enterprise is Picard.\n",
      "The captain of the Voyager is Janeway.\n",
      "The captain of the Defiant is Sisko.\n",
      "The captain of the Discovery is Unknown.\n"
     ]
    }
   ],
   "source": [
    "# bonus:\n",
    "\n",
    "captains = dict(\n",
    "    Enterprise=\"Picard\",\n",
    "    Voyager=\"Janeway\",\n",
    "    Defiant=\"Sisko\",\n",
    "    Discovery=\"Unknown\"\n",
    ")\n",
    "\n",
    "for ship, captain in captains.items():\n",
    "    print(f\"The captain of the {ship} is {captain}.\")\n"
   ]
  },
  {
   "cell_type": "markdown",
   "id": "3e8ac09c-85cf-4464-9328-2fc9f3748aa4",
   "metadata": {},
   "source": [
    "# CHALLENGE: CAPITAL CITY LOOP"
   ]
  },
  {
   "cell_type": "code",
   "execution_count": 16,
   "id": "28ec4701-4365-4ff8-a64d-58cd64656496",
   "metadata": {},
   "outputs": [
    {
     "name": "stdout",
     "output_type": "stream",
     "text": [
      "Type 'exit' anytime to quit.\n",
      "\n"
     ]
    },
    {
     "name": "stdin",
     "output_type": "stream",
     "text": [
      "What is the capital of Alabama?  Phoenix\n"
     ]
    },
    {
     "name": "stdout",
     "output_type": "stream",
     "text": [
      "❌ Wrong. The capital of Alabama is Montgomery.\n",
      "\n"
     ]
    },
    {
     "name": "stdin",
     "output_type": "stream",
     "text": [
      "What is the capital of Alaska?  juneau\n"
     ]
    },
    {
     "name": "stdout",
     "output_type": "stream",
     "text": [
      "✅ Correct!\n",
      "\n"
     ]
    },
    {
     "name": "stdin",
     "output_type": "stream",
     "text": [
      "What is the capital of Arizona?  exit\n"
     ]
    },
    {
     "name": "stdout",
     "output_type": "stream",
     "text": [
      "Exiting...\n"
     ]
    }
   ],
   "source": [
    "capitals_dict = {\n",
    "    'Alabama': 'Montgomery',\n",
    "    'Alaska': 'Juneau',\n",
    "    'Arizona': 'Phoenix',\n",
    "    'Arkansas': 'Little Rock',\n",
    "    'California': 'Sacramento',\n",
    "    'Colorado': 'Denver',\n",
    "    'Connecticut': 'Hartford',\n",
    "    'Delaware': 'Dover',\n",
    "    'Florida': 'Tallahassee',\n",
    "    'Georgia': 'Atlanta',\n",
    "}\n",
    "\n",
    "print(\"Type 'exit' anytime to quit.\\n\")\n",
    "\n",
    "for state, capital in capitals_dict.items():\n",
    "    guess = input(f\"What is the capital of {state}? \")\n",
    "    \n",
    "    if guess.lower() == \"exit\":\n",
    "        print(\"Exiting...\")\n",
    "        break\n",
    "\n",
    "    if guess.lower() == capital.lower():\n",
    "        print(\"✅ Correct!\\n\")\n",
    "    else:\n",
    "        print(f\"❌ Wrong. The capital of {state} is {capital}.\\n\")\n"
   ]
  },
  {
   "cell_type": "code",
   "execution_count": null,
   "id": "6ff5994f-1d22-4ae3-984f-152700a3a7f3",
   "metadata": {},
   "outputs": [],
   "source": []
  }
 ],
 "metadata": {
  "kernelspec": {
   "display_name": "Python [conda env:base] *",
   "language": "python",
   "name": "conda-base-py"
  },
  "language_info": {
   "codemirror_mode": {
    "name": "ipython",
    "version": 3
   },
   "file_extension": ".py",
   "mimetype": "text/x-python",
   "name": "python",
   "nbconvert_exporter": "python",
   "pygments_lexer": "ipython3",
   "version": "3.13.5"
  }
 },
 "nbformat": 4,
 "nbformat_minor": 5
}
